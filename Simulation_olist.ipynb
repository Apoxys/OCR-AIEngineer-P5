{
 "cells": [
  {
   "cell_type": "markdown",
   "id": "f62e6750-d4c0-4a0f-916d-496407fc6e62",
   "metadata": {},
   "source": [
    "# Olist : clusterisation - maintenance"
   ]
  },
  {
   "cell_type": "code",
   "execution_count": 18,
   "id": "4a8469ba-a17e-4519-8025-dcc22c30ee0c",
   "metadata": {},
   "outputs": [],
   "source": [
    "#librairies import\n",
    "\n",
    "import pandas as pd\n",
    "import numpy as np\n",
    "import scipy as scp\n",
    "import matplotlib.pyplot as plt\n",
    "import seaborn as sns\n",
    "\n",
    "import joblib\n",
    "from dateutil.relativedelta import relativedelta\n",
    "\n",
    "from sklearn.preprocessing import StandardScaler\n",
    "from sklearn.pipeline import Pipeline\n",
    "\n",
    "from sklearn.cluster import KMeans\n",
    "from sklearn.metrics.cluster import adjusted_rand_score\n",
    "\n",
    "from scipy.stats import kstest, norm, expon, uniform"
   ]
  },
  {
   "cell_type": "code",
   "execution_count": 19,
   "id": "81c7988b-69d7-4f69-9a24-8bf260287190",
   "metadata": {},
   "outputs": [
    {
     "data": {
      "text/html": [
       "<div>\n",
       "<style scoped>\n",
       "    .dataframe tbody tr th:only-of-type {\n",
       "        vertical-align: middle;\n",
       "    }\n",
       "\n",
       "    .dataframe tbody tr th {\n",
       "        vertical-align: top;\n",
       "    }\n",
       "\n",
       "    .dataframe thead th {\n",
       "        text-align: right;\n",
       "    }\n",
       "</style>\n",
       "<table border=\"1\" class=\"dataframe\">\n",
       "  <thead>\n",
       "    <tr style=\"text-align: right;\">\n",
       "      <th></th>\n",
       "      <th>last_purchase</th>\n",
       "      <th>days_since_last_purchase</th>\n",
       "      <th>total_price_items</th>\n",
       "      <th>total_freight_value</th>\n",
       "      <th>total_orders</th>\n",
       "      <th>km_enriched_cluster</th>\n",
       "      <th>DBSCAN_cluster</th>\n",
       "    </tr>\n",
       "  </thead>\n",
       "  <tbody>\n",
       "    <tr>\n",
       "      <th>0</th>\n",
       "      <td>1.534792e+09</td>\n",
       "      <td>864</td>\n",
       "      <td>729.62</td>\n",
       "      <td>172.42</td>\n",
       "      <td>17</td>\n",
       "      <td>2</td>\n",
       "      <td>-1</td>\n",
       "    </tr>\n",
       "    <tr>\n",
       "      <th>1</th>\n",
       "      <td>1.519757e+09</td>\n",
       "      <td>1038</td>\n",
       "      <td>1000.85</td>\n",
       "      <td>171.82</td>\n",
       "      <td>9</td>\n",
       "      <td>2</td>\n",
       "      <td>-1</td>\n",
       "    </tr>\n",
       "    <tr>\n",
       "      <th>2</th>\n",
       "      <td>1.530147e+09</td>\n",
       "      <td>917</td>\n",
       "      <td>664.20</td>\n",
       "      <td>94.63</td>\n",
       "      <td>7</td>\n",
       "      <td>2</td>\n",
       "      <td>-1</td>\n",
       "    </tr>\n",
       "    <tr>\n",
       "      <th>3</th>\n",
       "      <td>1.527853e+09</td>\n",
       "      <td>944</td>\n",
       "      <td>806.61</td>\n",
       "      <td>316.11</td>\n",
       "      <td>7</td>\n",
       "      <td>2</td>\n",
       "      <td>-1</td>\n",
       "    </tr>\n",
       "    <tr>\n",
       "      <th>4</th>\n",
       "      <td>1.518615e+09</td>\n",
       "      <td>1051</td>\n",
       "      <td>855.21</td>\n",
       "      <td>165.91</td>\n",
       "      <td>7</td>\n",
       "      <td>2</td>\n",
       "      <td>-1</td>\n",
       "    </tr>\n",
       "  </tbody>\n",
       "</table>\n",
       "</div>"
      ],
      "text/plain": [
       "   last_purchase  days_since_last_purchase  total_price_items  \\\n",
       "0   1.534792e+09                       864             729.62   \n",
       "1   1.519757e+09                      1038            1000.85   \n",
       "2   1.530147e+09                       917             664.20   \n",
       "3   1.527853e+09                       944             806.61   \n",
       "4   1.518615e+09                      1051             855.21   \n",
       "\n",
       "   total_freight_value  total_orders  km_enriched_cluster  DBSCAN_cluster  \n",
       "0               172.42            17                    2              -1  \n",
       "1               171.82             9                    2              -1  \n",
       "2                94.63             7                    2              -1  \n",
       "3               316.11             7                    2              -1  \n",
       "4               165.91             7                    2              -1  "
      ]
     },
     "execution_count": 19,
     "metadata": {},
     "output_type": "execute_result"
    }
   ],
   "source": [
    "data = pd.read_csv('data/data_with_clustering.csv')\n",
    "data.head()"
   ]
  },
  {
   "cell_type": "code",
   "execution_count": 20,
   "id": "6a6cc0cb-5fcd-4f0f-b01a-06e1631cea20",
   "metadata": {},
   "outputs": [
    {
     "data": {
      "text/plain": [
       "'#Model import\\n\\njoblib_file = \"kmeans_model.pkl\"\\nkmeans_original = joblib.load(joblib_file)'"
      ]
     },
     "execution_count": 20,
     "metadata": {},
     "output_type": "execute_result"
    }
   ],
   "source": [
    "'''#Model import\n",
    "\n",
    "joblib_file = \"kmeans_model.pkl\"\n",
    "kmeans_original = joblib.load(joblib_file)'''"
   ]
  },
  {
   "cell_type": "markdown",
   "id": "857de7f9-f881-4172-8055-c388c69f0bcf",
   "metadata": {},
   "source": [
    "### ARI analysis"
   ]
  },
  {
   "cell_type": "code",
   "execution_count": 21,
   "id": "980cbc22-898d-4a74-8835-2fe4f798341d",
   "metadata": {},
   "outputs": [
    {
     "data": {
      "text/html": [
       "<div>\n",
       "<style scoped>\n",
       "    .dataframe tbody tr th:only-of-type {\n",
       "        vertical-align: middle;\n",
       "    }\n",
       "\n",
       "    .dataframe tbody tr th {\n",
       "        vertical-align: top;\n",
       "    }\n",
       "\n",
       "    .dataframe thead th {\n",
       "        text-align: right;\n",
       "    }\n",
       "</style>\n",
       "<table border=\"1\" class=\"dataframe\">\n",
       "  <thead>\n",
       "    <tr style=\"text-align: right;\">\n",
       "      <th></th>\n",
       "      <th>last_purchase</th>\n",
       "      <th>days_since_last_purchase</th>\n",
       "      <th>total_price_items</th>\n",
       "      <th>total_freight_value</th>\n",
       "      <th>total_orders</th>\n",
       "    </tr>\n",
       "  </thead>\n",
       "  <tbody>\n",
       "    <tr>\n",
       "      <th>0</th>\n",
       "      <td>1.534792e+09</td>\n",
       "      <td>864</td>\n",
       "      <td>729.62</td>\n",
       "      <td>172.42</td>\n",
       "      <td>17</td>\n",
       "    </tr>\n",
       "    <tr>\n",
       "      <th>1</th>\n",
       "      <td>1.519757e+09</td>\n",
       "      <td>1038</td>\n",
       "      <td>1000.85</td>\n",
       "      <td>171.82</td>\n",
       "      <td>9</td>\n",
       "    </tr>\n",
       "    <tr>\n",
       "      <th>2</th>\n",
       "      <td>1.530147e+09</td>\n",
       "      <td>917</td>\n",
       "      <td>664.20</td>\n",
       "      <td>94.63</td>\n",
       "      <td>7</td>\n",
       "    </tr>\n",
       "    <tr>\n",
       "      <th>3</th>\n",
       "      <td>1.527853e+09</td>\n",
       "      <td>944</td>\n",
       "      <td>806.61</td>\n",
       "      <td>316.11</td>\n",
       "      <td>7</td>\n",
       "    </tr>\n",
       "    <tr>\n",
       "      <th>4</th>\n",
       "      <td>1.518615e+09</td>\n",
       "      <td>1051</td>\n",
       "      <td>855.21</td>\n",
       "      <td>165.91</td>\n",
       "      <td>7</td>\n",
       "    </tr>\n",
       "  </tbody>\n",
       "</table>\n",
       "</div>"
      ],
      "text/plain": [
       "   last_purchase  days_since_last_purchase  total_price_items  \\\n",
       "0   1.534792e+09                       864             729.62   \n",
       "1   1.519757e+09                      1038            1000.85   \n",
       "2   1.530147e+09                       917             664.20   \n",
       "3   1.527853e+09                       944             806.61   \n",
       "4   1.518615e+09                      1051             855.21   \n",
       "\n",
       "   total_freight_value  total_orders  \n",
       "0               172.42            17  \n",
       "1               171.82             9  \n",
       "2                94.63             7  \n",
       "3               316.11             7  \n",
       "4               165.91             7  "
      ]
     },
     "execution_count": 21,
     "metadata": {},
     "output_type": "execute_result"
    }
   ],
   "source": [
    "#drop clustering\n",
    "data = data.drop(columns = ['km_enriched_cluster', 'DBSCAN_cluster'])\n",
    "data.head()"
   ]
  },
  {
   "cell_type": "markdown",
   "id": "9f9e0aa6-e3ac-48e7-a436-b862d2036596",
   "metadata": {},
   "source": [
    "Need to translate last_purchase in datetime again \\\n",
    "Will also need to duplicate a datetime column to be droped, so as to select correct time but not be blocked for StandardScaler \\\n",
    "So will translate directly on new column"
   ]
  },
  {
   "cell_type": "code",
   "execution_count": 22,
   "id": "4e9aacb5-32d9-41d9-9c17-521aef48a19c",
   "metadata": {},
   "outputs": [
    {
     "data": {
      "text/html": [
       "<div>\n",
       "<style scoped>\n",
       "    .dataframe tbody tr th:only-of-type {\n",
       "        vertical-align: middle;\n",
       "    }\n",
       "\n",
       "    .dataframe tbody tr th {\n",
       "        vertical-align: top;\n",
       "    }\n",
       "\n",
       "    .dataframe thead th {\n",
       "        text-align: right;\n",
       "    }\n",
       "</style>\n",
       "<table border=\"1\" class=\"dataframe\">\n",
       "  <thead>\n",
       "    <tr style=\"text-align: right;\">\n",
       "      <th></th>\n",
       "      <th>last_purchase</th>\n",
       "      <th>days_since_last_purchase</th>\n",
       "      <th>total_price_items</th>\n",
       "      <th>total_freight_value</th>\n",
       "      <th>total_orders</th>\n",
       "      <th>date_reference</th>\n",
       "    </tr>\n",
       "  </thead>\n",
       "  <tbody>\n",
       "    <tr>\n",
       "      <th>0</th>\n",
       "      <td>1.534792e+09</td>\n",
       "      <td>864</td>\n",
       "      <td>729.62</td>\n",
       "      <td>172.42</td>\n",
       "      <td>17</td>\n",
       "      <td>2018-08-20 19:14:26</td>\n",
       "    </tr>\n",
       "    <tr>\n",
       "      <th>1</th>\n",
       "      <td>1.519757e+09</td>\n",
       "      <td>1038</td>\n",
       "      <td>1000.85</td>\n",
       "      <td>171.82</td>\n",
       "      <td>9</td>\n",
       "      <td>2018-02-27 18:36:39</td>\n",
       "    </tr>\n",
       "    <tr>\n",
       "      <th>2</th>\n",
       "      <td>1.530147e+09</td>\n",
       "      <td>917</td>\n",
       "      <td>664.20</td>\n",
       "      <td>94.63</td>\n",
       "      <td>7</td>\n",
       "      <td>2018-06-28 00:43:34</td>\n",
       "    </tr>\n",
       "    <tr>\n",
       "      <th>3</th>\n",
       "      <td>1.527853e+09</td>\n",
       "      <td>944</td>\n",
       "      <td>806.61</td>\n",
       "      <td>316.11</td>\n",
       "      <td>7</td>\n",
       "      <td>2018-06-01 11:38:29</td>\n",
       "    </tr>\n",
       "    <tr>\n",
       "      <th>4</th>\n",
       "      <td>1.518615e+09</td>\n",
       "      <td>1051</td>\n",
       "      <td>855.21</td>\n",
       "      <td>165.91</td>\n",
       "      <td>7</td>\n",
       "      <td>2018-02-14 13:22:12</td>\n",
       "    </tr>\n",
       "  </tbody>\n",
       "</table>\n",
       "</div>"
      ],
      "text/plain": [
       "   last_purchase  days_since_last_purchase  total_price_items  \\\n",
       "0   1.534792e+09                       864             729.62   \n",
       "1   1.519757e+09                      1038            1000.85   \n",
       "2   1.530147e+09                       917             664.20   \n",
       "3   1.527853e+09                       944             806.61   \n",
       "4   1.518615e+09                      1051             855.21   \n",
       "\n",
       "   total_freight_value  total_orders      date_reference  \n",
       "0               172.42            17 2018-08-20 19:14:26  \n",
       "1               171.82             9 2018-02-27 18:36:39  \n",
       "2                94.63             7 2018-06-28 00:43:34  \n",
       "3               316.11             7 2018-06-01 11:38:29  \n",
       "4               165.91             7 2018-02-14 13:22:12  "
      ]
     },
     "execution_count": 22,
     "metadata": {},
     "output_type": "execute_result"
    }
   ],
   "source": [
    "data['date_reference'] = pd.to_datetime(data['last_purchase'], unit='s')\n",
    "data.head()"
   ]
  },
  {
   "cell_type": "code",
   "execution_count": 23,
   "id": "23f91e8d-e7a9-49be-b45d-6016c0b56774",
   "metadata": {},
   "outputs": [],
   "source": [
    "#set init over a month\n",
    "period_start = pd.to_datetime('2017-01-01')\n",
    "period_end = pd.to_datetime('2018-01-01')\n",
    "mask_F0 = (data['date_reference'] > period_start) & (\n",
    "    data['date_reference'] <= period_end)\n",
    "data_init = data.loc[mask_F0].drop(columns='date_reference')"
   ]
  },
  {
   "cell_type": "code",
   "execution_count": 24,
   "id": "cbcb60ae-39c6-4d04-8d53-a03eeba6476a",
   "metadata": {},
   "outputs": [],
   "source": [
    "#importing pipeline from clustering notebook\n",
    "#Pipeline scaling+training\n",
    "def train_kmeans(data, scaler, best_k):\n",
    "    pipeline = Pipeline([\n",
    "    ('scaler', scaler),\n",
    "    ('kmeans', KMeans(n_clusters=best_k, random_state=42, n_init=10, init='k-means++'))\n",
    "])\n",
    "    return pipeline.fit(data)"
   ]
  },
  {
   "cell_type": "code",
   "execution_count": 25,
   "id": "a9b51ce9-e00d-4a5a-8640-d4b3564c480a",
   "metadata": {},
   "outputs": [
    {
     "data": {
      "text/html": [
       "<div>\n",
       "<style scoped>\n",
       "    .dataframe tbody tr th:only-of-type {\n",
       "        vertical-align: middle;\n",
       "    }\n",
       "\n",
       "    .dataframe tbody tr th {\n",
       "        vertical-align: top;\n",
       "    }\n",
       "\n",
       "    .dataframe thead th {\n",
       "        text-align: right;\n",
       "    }\n",
       "</style>\n",
       "<table border=\"1\" class=\"dataframe\">\n",
       "  <thead>\n",
       "    <tr style=\"text-align: right;\">\n",
       "      <th></th>\n",
       "      <th>last_purchase</th>\n",
       "      <th>days_since_last_purchase</th>\n",
       "      <th>total_price_items</th>\n",
       "      <th>total_freight_value</th>\n",
       "      <th>total_orders</th>\n",
       "    </tr>\n",
       "  </thead>\n",
       "  <tbody>\n",
       "    <tr>\n",
       "      <th>5</th>\n",
       "      <td>1.483630e+09</td>\n",
       "      <td>1456</td>\n",
       "      <td>58.40</td>\n",
       "      <td>52.32</td>\n",
       "      <td>6</td>\n",
       "    </tr>\n",
       "    <tr>\n",
       "      <th>21</th>\n",
       "      <td>1.505815e+09</td>\n",
       "      <td>1199</td>\n",
       "      <td>404.80</td>\n",
       "      <td>72.54</td>\n",
       "      <td>4</td>\n",
       "    </tr>\n",
       "    <tr>\n",
       "      <th>24</th>\n",
       "      <td>1.503571e+09</td>\n",
       "      <td>1225</td>\n",
       "      <td>501.97</td>\n",
       "      <td>305.48</td>\n",
       "      <td>4</td>\n",
       "    </tr>\n",
       "    <tr>\n",
       "      <th>27</th>\n",
       "      <td>1.491718e+09</td>\n",
       "      <td>1362</td>\n",
       "      <td>67.60</td>\n",
       "      <td>64.20</td>\n",
       "      <td>4</td>\n",
       "    </tr>\n",
       "    <tr>\n",
       "      <th>29</th>\n",
       "      <td>1.511288e+09</td>\n",
       "      <td>1136</td>\n",
       "      <td>288.00</td>\n",
       "      <td>71.00</td>\n",
       "      <td>4</td>\n",
       "    </tr>\n",
       "  </tbody>\n",
       "</table>\n",
       "</div>"
      ],
      "text/plain": [
       "    last_purchase  days_since_last_purchase  total_price_items  \\\n",
       "5    1.483630e+09                      1456              58.40   \n",
       "21   1.505815e+09                      1199             404.80   \n",
       "24   1.503571e+09                      1225             501.97   \n",
       "27   1.491718e+09                      1362              67.60   \n",
       "29   1.511288e+09                      1136             288.00   \n",
       "\n",
       "    total_freight_value  total_orders  \n",
       "5                 52.32             6  \n",
       "21                72.54             4  \n",
       "24               305.48             4  \n",
       "27                64.20             4  \n",
       "29                71.00             4  "
      ]
     },
     "execution_count": 25,
     "metadata": {},
     "output_type": "execute_result"
    }
   ],
   "source": [
    "data_init.head()"
   ]
  },
  {
   "cell_type": "code",
   "execution_count": 26,
   "id": "3da24aac-c6e3-4ab9-86ff-93bfa3b454ca",
   "metadata": {},
   "outputs": [],
   "source": [
    "#fit data \n",
    "kmeans_init = train_kmeans(data_init, StandardScaler(), 4)\n",
    "\n",
    "#clustering labels\n",
    "init_labels = kmeans_init.named_steps['kmeans'].labels_"
   ]
  },
  {
   "cell_type": "code",
   "execution_count": 27,
   "id": "a4f798ac-4364-43ca-af46-29dce1ea099d",
   "metadata": {},
   "outputs": [
    {
     "name": "stdout",
     "output_type": "stream",
     "text": [
      "[[1, 0.8128206505343799], [2, 0.7267245109903605], [3, 0.6444385202037631], [4, 0.595370786457006], [5, 0.5560249310152079], [6, 0.521470525763528], [7, 0.48946910974980656], [8, 0.31528371039162373], [9, 0.3154053813031696], [10, 0.31546185986814573], [11, 0.31546185986814573], [12, 0.31546185986814573]]\n"
     ]
    }
   ],
   "source": [
    "#init empty ari score\n",
    "ari_score_month = []\n",
    "\n",
    "#loop on each month\n",
    "for p in range(1, 13):\n",
    "    # Création des datasets par périodes\n",
    "    start_date = pd.to_datetime('2017-01-01')\n",
    "    start_T0 = pd.to_datetime('2018-01-01')\n",
    "    start_date_Tp = start_T0 + relativedelta(months=p)  # Incrémentation de 1 mois\n",
    "    data_period = data.copy()\n",
    "    mask_data_period = (data['date_reference'] > start_date) & (\n",
    "        data['date_reference'] <= start_date_Tp)\n",
    "    data_period = data.loc[mask_data_period].drop(\n",
    "        columns='date_reference')\n",
    "\n",
    "    # K-Means\n",
    "    kmeans_p = train_kmeans(data_period, StandardScaler(), 4)   \n",
    "    p_labels = kmeans_p.named_steps['kmeans'].labels_\n",
    "\n",
    "    # Calcul des ARI score\n",
    "    ari_p = adjusted_rand_score(kmeans_init.predict(\n",
    "        data_period), kmeans_p.predict(data_period))\n",
    "    ari_score_month.append([p, ari_p])\n",
    "\n",
    "print(ari_score_month)"
   ]
  },
  {
   "cell_type": "code",
   "execution_count": 28,
   "id": "6f08943a-c2a1-4e58-80b0-1e107d737674",
   "metadata": {},
   "outputs": [
    {
     "data": {
      "image/png": "[encoded data removed]",
      "text/plain": [
       "<Figure size 640x480 with 1 Axes>"
      ]
     },
     "metadata": {},
     "output_type": "display_data"
    }
   ],
   "source": [
    "#taking only the values for the list\n",
    "values_month = [item[1] for item in ari_score_month]\n",
    "\n",
    "#plot ARI evolution per month\n",
    "plt.plot(values_month, marker='o')\n",
    "plt.xlabel('Time Step - Monthly')\n",
    "plt.ylabel('ARI Score')\n",
    "plt.title('ARI Score Over Time - Monthly')\n",
    "plt.axhline(y=0.7, color='r', linestyle='--', label='Re-run Clustering Threshold')\n",
    "plt.legend()\n",
    "plt.show()"
   ]
  },
  {
   "cell_type": "markdown",
   "id": "827c5008-481a-4a92-aa98-75e8102b549e",
   "metadata": {},
   "source": [
    "The first month shows a jump of almost 20%, we could check week by week"
   ]
  },
  {
   "cell_type": "code",
   "execution_count": 29,
   "id": "26389c3b-d265-468e-9f7e-222aa78b5290",
   "metadata": {},
   "outputs": [
    {
     "name": "stdout",
     "output_type": "stream",
     "text": [
      "[[1, 0.9452613098646315], [2, 0.9026093436706877], [3, 0.8712780773991533], [4, 0.8260500755344475], [5, 0.7969223727695631], [6, 0.48367227026325], [7, 0.7635388339524262], [8, 0.7328191268135416], [9, 0.48781904021839567], [10, 0.7017054172574881], [11, 0.6770059275193813], [12, 0.4866425150776364], [13, 0.6436316042490721], [14, 0.628247437928545], [15, 0.6231898148509757], [16, 0.501388202391562], [17, 0.60142644057034], [18, 0.5855004980081818], [19, 0.572984843748505], [20, 0.5611989221974587], [21, 0.5572138695486646], [22, 0.5461834297980056], [23, 0.5393227436900245], [24, 0.5293207701284467], [25, 0.5235033241229058], [26, 0.5204668539845897], [27, 0.5162583771439011], [28, 0.5134041663126628], [29, 0.5066518654610774], [30, 0.49396636220633083], [31, 0.35917587621522007], [32, 0.351349897876275], [33, 0.3393898372932866], [34, 0.31713113008117033], [35, 0.31528371039162373], [36, 0.31534426783024794], [37, 0.33743217423242594], [38, 0.3154816916028375], [39, 0.3154053813031696], [40, 0.3154403410566788], [41, 0.3154403410566788], [42, 0.31546185986814573], [43, 0.31546185986814573], [44, 0.31546185986814573], [45, 0.31546185986814573], [46, 0.31546185986814573], [47, 0.31546185986814573], [48, 0.31546185986814573], [49, 0.31546185986814573], [50, 0.31546185986814573], [51, 0.31546185986814573]]\n"
     ]
    }
   ],
   "source": [
    "#init empty ari score\n",
    "ari_score_weeks = []\n",
    "\n",
    "#loop on each month\n",
    "for p in range(1, 52):\n",
    "    # Création des datasets par périodes\n",
    "    start_date = pd.to_datetime('2017-01-01')\n",
    "    start_T0 = pd.to_datetime('2018-01-01')\n",
    "    start_date_Tp = start_T0 + relativedelta(days=+7*p)  # Incrémentation de 1 semaine\n",
    "    data_period = data.copy()\n",
    "    mask_data_period = (data['date_reference'] > start_date) & (\n",
    "        data['date_reference'] <= start_date_Tp)\n",
    "    data_period = data.loc[mask_data_period].drop(\n",
    "        columns='date_reference')\n",
    "\n",
    "    # K-Means\n",
    "    kmeans_p = train_kmeans(data_period, StandardScaler(), 4)   \n",
    "    p_labels = kmeans_p.named_steps['kmeans'].labels_\n",
    "\n",
    "    # Calcul des ARI score\n",
    "    ari_p = adjusted_rand_score(kmeans_init.predict(\n",
    "        data_period), kmeans_p.predict(data_period))\n",
    "    ari_score_weeks.append([p, ari_p])\n",
    "\n",
    "\n",
    "print(ari_score_weeks)"
   ]
  },
  {
   "cell_type": "code",
   "execution_count": 30,
   "id": "d8a09cb9-882b-4214-87e6-e84275e799f1",
   "metadata": {},
   "outputs": [
    {
     "data": {
      "image/png": "[encoded data removed]",
      "text/plain": [
       "<Figure size 640x480 with 1 Axes>"
      ]
     },
     "metadata": {},
     "output_type": "display_data"
    }
   ],
   "source": [
    "#taking only the values for the list\n",
    "values_weeks = [item[1] for item in ari_score_weeks]\n",
    "\n",
    "#plot ARI evolution per week\n",
    "plt.plot(values_weeks, marker='o')\n",
    "plt.xlabel('Time Step - Weekly')\n",
    "plt.ylabel('ARI Score')\n",
    "plt.title('ARI Score Over Time - Weekly')\n",
    "plt.axhline(y=0.7, color='r', linestyle='--', label='Re-run Clustering Threshold')\n",
    "plt.legend()\n",
    "plt.show()"
   ]
  },
  {
   "cell_type": "markdown",
   "id": "ef2341f3-46ef-4786-a103-10f7f4e80bca",
   "metadata": {},
   "source": [
    "The 5 first weeks are somewhat stable, then on the 6th week is drops below 80% \n",
    "\n",
    "OFFER 1 : MAXIMUM STABILITY\n",
    "Retrain and re-clustering - every 2 weeks - \n",
    "- Guaranteed precision over 90%\n",
    "- Closer to your customers evolutions\n",
    "\n",
    "OFFER 2 : EXCELLENT STABILITY\n",
    "Retrain and re-clustering - every month - \n",
    "- Guaranteed precision over 80%\n",
    "- Acceptable delay on customer evolution\n",
    "\n",
    "OFFER 3 : MINIMAL STABILITY\n",
    "Retrain and re-clustering - every 3 month - \n",
    "- Guaranteed precision over 65%\n",
    "- Delay on customer evolution"
   ]
  }
 ],
 "metadata": {
  "kernelspec": {
   "display_name": "Python 3 (ipykernel)",
   "language": "python",
   "name": "python3"
  },
  "language_info": {
   "codemirror_mode": {
    "name": "ipython",
    "version": 3
   },
   "file_extension": ".py",
   "mimetype": "text/x-python",
   "name": "python",
   "nbconvert_exporter": "python",
   "pygments_lexer": "ipython3",
   "version": "3.11.5"
  }
 },
 "nbformat": 4,
 "nbformat_minor": 5
}
