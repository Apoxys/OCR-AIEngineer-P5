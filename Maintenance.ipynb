{
 "cells": [
  {
   "cell_type": "markdown",
   "id": "f62e6750-d4c0-4a0f-916d-496407fc6e62",
   "metadata": {},
   "source": [
    "# Olist : maintenance"
   ]
  },
  {
   "cell_type": "code",
   "execution_count": 1,
   "id": "4a8469ba-a17e-4519-8025-dcc22c30ee0c",
   "metadata": {},
   "outputs": [],
   "source": [
    "#librairies import\n",
    "\n",
    "import pandas as pd\n",
    "import numpy as np\n",
    "import scipy.stats as scp.sts\n",
    "import matplotlib.pyplot as plt\n",
    "import seaborn as sns\n",
    "\n",
    "import joblib\n",
    "\n",
    "from sklearn.preprocessing import StandardScaler\n",
    "\n",
    "from sklearn.cluster import KMeans\n",
    "\n",
    "from scp.sts import kstest, norm, expon, uniform"
   ]
  },
  {
   "cell_type": "markdown",
   "id": "b028c661-14cb-49e2-8aea-3ad3f0f001b8",
   "metadata": {},
   "source": [
    "We will first use the ks test to evaluate if our data follows a certain logic"
   ]
  },
  {
   "cell_type": "code",
   "execution_count": 3,
   "id": "81c7988b-69d7-4f69-9a24-8bf260287190",
   "metadata": {},
   "outputs": [
    {
     "data": {
      "text/html": [
       "<div>\n",
       "<style scoped>\n",
       "    .dataframe tbody tr th:only-of-type {\n",
       "        vertical-align: middle;\n",
       "    }\n",
       "\n",
       "    .dataframe tbody tr th {\n",
       "        vertical-align: top;\n",
       "    }\n",
       "\n",
       "    .dataframe thead th {\n",
       "        text-align: right;\n",
       "    }\n",
       "</style>\n",
       "<table border=\"1\" class=\"dataframe\">\n",
       "  <thead>\n",
       "    <tr style=\"text-align: right;\">\n",
       "      <th></th>\n",
       "      <th>last_purchase</th>\n",
       "      <th>days_since_last_purchase</th>\n",
       "      <th>total_price_items</th>\n",
       "      <th>cluster</th>\n",
       "      <th>total_freight_value</th>\n",
       "      <th>total_orders</th>\n",
       "      <th>DBSCAN_cluter</th>\n",
       "      <th>HAC_cluter</th>\n",
       "    </tr>\n",
       "  </thead>\n",
       "  <tbody>\n",
       "    <tr>\n",
       "      <th>0</th>\n",
       "      <td>1.534792e+09</td>\n",
       "      <td>2123</td>\n",
       "      <td>729.62</td>\n",
       "      <td>2</td>\n",
       "      <td>172.42</td>\n",
       "      <td>17</td>\n",
       "      <td>-1</td>\n",
       "      <td>0</td>\n",
       "    </tr>\n",
       "    <tr>\n",
       "      <th>1</th>\n",
       "      <td>1.519757e+09</td>\n",
       "      <td>2297</td>\n",
       "      <td>1000.85</td>\n",
       "      <td>2</td>\n",
       "      <td>171.82</td>\n",
       "      <td>9</td>\n",
       "      <td>-1</td>\n",
       "      <td>0</td>\n",
       "    </tr>\n",
       "    <tr>\n",
       "      <th>2</th>\n",
       "      <td>1.530147e+09</td>\n",
       "      <td>2176</td>\n",
       "      <td>664.20</td>\n",
       "      <td>2</td>\n",
       "      <td>94.63</td>\n",
       "      <td>7</td>\n",
       "      <td>-1</td>\n",
       "      <td>0</td>\n",
       "    </tr>\n",
       "    <tr>\n",
       "      <th>3</th>\n",
       "      <td>1.527853e+09</td>\n",
       "      <td>2203</td>\n",
       "      <td>806.61</td>\n",
       "      <td>2</td>\n",
       "      <td>316.11</td>\n",
       "      <td>7</td>\n",
       "      <td>-1</td>\n",
       "      <td>0</td>\n",
       "    </tr>\n",
       "    <tr>\n",
       "      <th>4</th>\n",
       "      <td>1.518615e+09</td>\n",
       "      <td>2310</td>\n",
       "      <td>855.21</td>\n",
       "      <td>2</td>\n",
       "      <td>165.91</td>\n",
       "      <td>7</td>\n",
       "      <td>-1</td>\n",
       "      <td>0</td>\n",
       "    </tr>\n",
       "  </tbody>\n",
       "</table>\n",
       "</div>"
      ],
      "text/plain": [
       "   last_purchase  days_since_last_purchase  total_price_items  cluster  \\\n",
       "0   1.534792e+09                      2123             729.62        2   \n",
       "1   1.519757e+09                      2297            1000.85        2   \n",
       "2   1.530147e+09                      2176             664.20        2   \n",
       "3   1.527853e+09                      2203             806.61        2   \n",
       "4   1.518615e+09                      2310             855.21        2   \n",
       "\n",
       "   total_freight_value  total_orders  DBSCAN_cluter  HAC_cluter  \n",
       "0               172.42            17             -1           0  \n",
       "1               171.82             9             -1           0  \n",
       "2                94.63             7             -1           0  \n",
       "3               316.11             7             -1           0  \n",
       "4               165.91             7             -1           0  "
      ]
     },
     "execution_count": 3,
     "metadata": {},
     "output_type": "execute_result"
    }
   ],
   "source": [
    "data = pd.read_csv('data/data_with_clustering.csv')\n",
    "data.head()"
   ]
  },
  {
   "cell_type": "code",
   "execution_count": null,
   "id": "6a6cc0cb-5fcd-4f0f-b01a-06e1631cea20",
   "metadata": {},
   "outputs": [],
   "source": [
    "#Model import\n",
    "\n",
    "joblib_file = \"kmeans_model.pkl\"\n",
    "kmeans_original = joblib.load(joblib_file)"
   ]
  },
  {
   "cell_type": "markdown",
   "id": "52f02405-7247-4164-8c22-3aba73b13cc1",
   "metadata": {},
   "source": [
    "need to import the last trained model as well"
   ]
  },
  {
   "cell_type": "markdown",
   "id": "857de7f9-f881-4172-8055-c388c69f0bcf",
   "metadata": {},
   "source": [
    "### ARI analysis"
   ]
  },
  {
   "cell_type": "markdown",
   "id": "fa73f171-52c4-4d55-934e-ab48692555ff",
   "metadata": {},
   "source": [
    "We will use the KS test to establish which statistical law is the fittest to simulate data evolution, then use the ARI to see when changes are to important, therefore calling for a retraining of the model"
   ]
  },
  {
   "cell_type": "code",
   "execution_count": null,
   "id": "5194439a-fc89-4b59-89a9-b1f157f79a6a",
   "metadata": {},
   "outputs": [],
   "source": [
    "'''# Perform K-S test for different distributions\n",
    "ks_test_normal = kstest(data, 'norm', args=(data.mean(), data.std()))\n",
    "ks_test_expon = kstest(data, 'expon', args=(data.min(), data.mean()))\n",
    "ks_test_uniform = kstest(data, 'uniform', args=(data.min(), data.max() - data.min()))\n",
    "\n",
    "print(f'K-S test for normal distribution: {ks_test_normal}')\n",
    "print(f'K-S test for exponential distribution: {ks_test_expon}')\n",
    "print(f'K-S test for uniform distribution: {ks_test_uniform}')'''"
   ]
  },
  {
   "cell_type": "code",
   "execution_count": null,
   "id": "3d1ae7c6-d8ff-4449-a94e-92595301e3d4",
   "metadata": {},
   "outputs": [],
   "source": [
    "'''#Depending on KS results\n",
    "\n",
    "#norm\n",
    "noise = np.random.normal(0, 0.5, data.shape)\n",
    "evolved_data = data + noise\n",
    "\n",
    "#expon\n",
    "noise = np.random.exponential(0, 0.5, data.shape)\n",
    "evolved_data = data + noise\n",
    "\n",
    "#uniform\n",
    "noise = np.random.uniform(0, 0.5, data.shape)\n",
    "evolved_data = data + noise\n",
    "\n",
    "\n",
    "# Perform clustering on both datasets\n",
    "n_clusters = kmeans_original.n_clusters\n",
    "\n",
    "kmeans_original = KMeans(n_clusters=n_clusters, random_state=42).fit(data)\n",
    "kmeans_evolved = KMeans(n_clusters=n_clusters, random_state=42).fit(evolved_data)\n",
    "\n",
    "# Calculate ARI\n",
    "ari_score = adjusted_rand_score(kmeans_original.labels_, kmeans_evolved.labels_)\n",
    "print(f'Adjusted Rand Index: {ari_score:.3f}')'''"
   ]
  }
 ],
 "metadata": {
  "kernelspec": {
   "display_name": "Python 3 (ipykernel)",
   "language": "python",
   "name": "python3"
  },
  "language_info": {
   "codemirror_mode": {
    "name": "ipython",
    "version": 3
   },
   "file_extension": ".py",
   "mimetype": "text/x-python",
   "name": "python",
   "nbconvert_exporter": "python",
   "pygments_lexer": "ipython3",
   "version": "3.11.5"
  }
 },
 "nbformat": 4,
 "nbformat_minor": 5
}
