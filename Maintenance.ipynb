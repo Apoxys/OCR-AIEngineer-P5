{
 "cells": [
  {
   "cell_type": "markdown",
   "id": "f62e6750-d4c0-4a0f-916d-496407fc6e62",
   "metadata": {},
   "source": [
    "# Olist : maintenance"
   ]
  },
  {
   "cell_type": "code",
   "execution_count": 105,
   "id": "4a8469ba-a17e-4519-8025-dcc22c30ee0c",
   "metadata": {},
   "outputs": [],
   "source": [
    "#librairies import\n",
    "\n",
    "import pandas as pd\n",
    "import numpy as np\n",
    "import scipy as scp\n",
    "import matplotlib.pyplot as plt\n",
    "import seaborn as sns\n",
    "\n",
    "import joblib\n",
    "from dateutil.relativedelta import relativedelta\n",
    "\n",
    "from sklearn.preprocessing import StandardScaler\n",
    "from sklearn.pipeline import Pipeline\n",
    "\n",
    "from sklearn.cluster import KMeans\n",
    "from sklearn.metrics.cluster import adjusted_rand_score\n",
    "\n",
    "from scipy.stats import kstest, norm, expon, uniform"
   ]
  },
  {
   "cell_type": "markdown",
   "id": "b028c661-14cb-49e2-8aea-3ad3f0f001b8",
   "metadata": {},
   "source": [
    "We will first use the ks test to evaluate if our data follows a certain logic"
   ]
  },
  {
   "cell_type": "markdown",
   "id": "10eb5fb2-c067-4d39-a93e-0151ae7302d8",
   "metadata": {},
   "source": [
    "import train_test_split \\\n",
    "split dataset \\\n",
    "X = données actuelles \\\n",
    "y = données futures \\\n",
    "Train sur X \\\n",
    "y => tester l'évolution => ARI"
   ]
  },
  {
   "cell_type": "code",
   "execution_count": null,
   "id": "12a0ac59-e0aa-402b-90b4-bfa0837ad65f",
   "metadata": {},
   "outputs": [],
   "source": [
    "'''data = pd.read_csv('data/olist_customers_whole.csv')\n",
    "data.head()'''"
   ]
  },
  {
   "cell_type": "code",
   "execution_count": 95,
   "id": "81c7988b-69d7-4f69-9a24-8bf260287190",
   "metadata": {},
   "outputs": [
    {
     "data": {
      "text/html": [
       "<div>\n",
       "<style scoped>\n",
       "    .dataframe tbody tr th:only-of-type {\n",
       "        vertical-align: middle;\n",
       "    }\n",
       "\n",
       "    .dataframe tbody tr th {\n",
       "        vertical-align: top;\n",
       "    }\n",
       "\n",
       "    .dataframe thead th {\n",
       "        text-align: right;\n",
       "    }\n",
       "</style>\n",
       "<table border=\"1\" class=\"dataframe\">\n",
       "  <thead>\n",
       "    <tr style=\"text-align: right;\">\n",
       "      <th></th>\n",
       "      <th>last_purchase</th>\n",
       "      <th>days_since_last_purchase</th>\n",
       "      <th>total_price_items</th>\n",
       "      <th>km_cluster</th>\n",
       "      <th>total_freight_value</th>\n",
       "      <th>total_orders</th>\n",
       "      <th>km_enriched_cluster</th>\n",
       "      <th>DBSCAN_cluster</th>\n",
       "    </tr>\n",
       "  </thead>\n",
       "  <tbody>\n",
       "    <tr>\n",
       "      <th>0</th>\n",
       "      <td>1.534792e+09</td>\n",
       "      <td>2129</td>\n",
       "      <td>729.62</td>\n",
       "      <td>0</td>\n",
       "      <td>172.42</td>\n",
       "      <td>17</td>\n",
       "      <td>4</td>\n",
       "      <td>-1</td>\n",
       "    </tr>\n",
       "    <tr>\n",
       "      <th>1</th>\n",
       "      <td>1.519757e+09</td>\n",
       "      <td>2303</td>\n",
       "      <td>1000.85</td>\n",
       "      <td>3</td>\n",
       "      <td>171.82</td>\n",
       "      <td>9</td>\n",
       "      <td>4</td>\n",
       "      <td>-1</td>\n",
       "    </tr>\n",
       "    <tr>\n",
       "      <th>2</th>\n",
       "      <td>1.530147e+09</td>\n",
       "      <td>2182</td>\n",
       "      <td>664.20</td>\n",
       "      <td>0</td>\n",
       "      <td>94.63</td>\n",
       "      <td>7</td>\n",
       "      <td>4</td>\n",
       "      <td>-1</td>\n",
       "    </tr>\n",
       "    <tr>\n",
       "      <th>3</th>\n",
       "      <td>1.527853e+09</td>\n",
       "      <td>2209</td>\n",
       "      <td>806.61</td>\n",
       "      <td>0</td>\n",
       "      <td>316.11</td>\n",
       "      <td>7</td>\n",
       "      <td>4</td>\n",
       "      <td>-1</td>\n",
       "    </tr>\n",
       "    <tr>\n",
       "      <th>4</th>\n",
       "      <td>1.518615e+09</td>\n",
       "      <td>2316</td>\n",
       "      <td>855.21</td>\n",
       "      <td>3</td>\n",
       "      <td>165.91</td>\n",
       "      <td>7</td>\n",
       "      <td>4</td>\n",
       "      <td>-1</td>\n",
       "    </tr>\n",
       "  </tbody>\n",
       "</table>\n",
       "</div>"
      ],
      "text/plain": [
       "   last_purchase  days_since_last_purchase  total_price_items  km_cluster  \\\n",
       "0   1.534792e+09                      2129             729.62           0   \n",
       "1   1.519757e+09                      2303            1000.85           3   \n",
       "2   1.530147e+09                      2182             664.20           0   \n",
       "3   1.527853e+09                      2209             806.61           0   \n",
       "4   1.518615e+09                      2316             855.21           3   \n",
       "\n",
       "   total_freight_value  total_orders  km_enriched_cluster  DBSCAN_cluster  \n",
       "0               172.42            17                    4              -1  \n",
       "1               171.82             9                    4              -1  \n",
       "2                94.63             7                    4              -1  \n",
       "3               316.11             7                    4              -1  \n",
       "4               165.91             7                    4              -1  "
      ]
     },
     "execution_count": 95,
     "metadata": {},
     "output_type": "execute_result"
    }
   ],
   "source": [
    "data = pd.read_csv('data/data_with_clustering.csv')\n",
    "data.head()"
   ]
  },
  {
   "cell_type": "code",
   "execution_count": null,
   "id": "6a6cc0cb-5fcd-4f0f-b01a-06e1631cea20",
   "metadata": {},
   "outputs": [],
   "source": [
    "'''#Model import\n",
    "\n",
    "joblib_file = \"kmeans_model.pkl\"\n",
    "kmeans_original = joblib.load(joblib_file)'''"
   ]
  },
  {
   "cell_type": "markdown",
   "id": "857de7f9-f881-4172-8055-c388c69f0bcf",
   "metadata": {},
   "source": [
    "### ARI analysis"
   ]
  },
  {
   "cell_type": "code",
   "execution_count": null,
   "id": "980cbc22-898d-4a74-8835-2fe4f798341d",
   "metadata": {},
   "outputs": [],
   "source": [
    "#drop clustering\n",
    "data = data.drop(columns = ['km_enriched_cluster', 'DBSCAN_cluster', 'km_cluster'])\n",
    "data.head()"
   ]
  },
  {
   "cell_type": "markdown",
   "id": "9f9e0aa6-e3ac-48e7-a436-b862d2036596",
   "metadata": {},
   "source": [
    "Need to translate last_purchase in datetime again \\\n",
    "Will also need to duplicate a datetime column to be droped, so as to select correct time but not be blocked for StandardScaler \\\n",
    "So will translate directly on new column"
   ]
  },
  {
   "cell_type": "code",
   "execution_count": 97,
   "id": "4e9aacb5-32d9-41d9-9c17-521aef48a19c",
   "metadata": {},
   "outputs": [
    {
     "data": {
      "text/html": [
       "<div>\n",
       "<style scoped>\n",
       "    .dataframe tbody tr th:only-of-type {\n",
       "        vertical-align: middle;\n",
       "    }\n",
       "\n",
       "    .dataframe tbody tr th {\n",
       "        vertical-align: top;\n",
       "    }\n",
       "\n",
       "    .dataframe thead th {\n",
       "        text-align: right;\n",
       "    }\n",
       "</style>\n",
       "<table border=\"1\" class=\"dataframe\">\n",
       "  <thead>\n",
       "    <tr style=\"text-align: right;\">\n",
       "      <th></th>\n",
       "      <th>last_purchase</th>\n",
       "      <th>days_since_last_purchase</th>\n",
       "      <th>total_price_items</th>\n",
       "      <th>total_freight_value</th>\n",
       "      <th>total_orders</th>\n",
       "      <th>date_reference</th>\n",
       "    </tr>\n",
       "  </thead>\n",
       "  <tbody>\n",
       "    <tr>\n",
       "      <th>0</th>\n",
       "      <td>1.534792e+09</td>\n",
       "      <td>2129</td>\n",
       "      <td>729.62</td>\n",
       "      <td>172.42</td>\n",
       "      <td>17</td>\n",
       "      <td>2018-08-20 19:14:26</td>\n",
       "    </tr>\n",
       "    <tr>\n",
       "      <th>1</th>\n",
       "      <td>1.519757e+09</td>\n",
       "      <td>2303</td>\n",
       "      <td>1000.85</td>\n",
       "      <td>171.82</td>\n",
       "      <td>9</td>\n",
       "      <td>2018-02-27 18:36:39</td>\n",
       "    </tr>\n",
       "    <tr>\n",
       "      <th>2</th>\n",
       "      <td>1.530147e+09</td>\n",
       "      <td>2182</td>\n",
       "      <td>664.20</td>\n",
       "      <td>94.63</td>\n",
       "      <td>7</td>\n",
       "      <td>2018-06-28 00:43:34</td>\n",
       "    </tr>\n",
       "    <tr>\n",
       "      <th>3</th>\n",
       "      <td>1.527853e+09</td>\n",
       "      <td>2209</td>\n",
       "      <td>806.61</td>\n",
       "      <td>316.11</td>\n",
       "      <td>7</td>\n",
       "      <td>2018-06-01 11:38:29</td>\n",
       "    </tr>\n",
       "    <tr>\n",
       "      <th>4</th>\n",
       "      <td>1.518615e+09</td>\n",
       "      <td>2316</td>\n",
       "      <td>855.21</td>\n",
       "      <td>165.91</td>\n",
       "      <td>7</td>\n",
       "      <td>2018-02-14 13:22:12</td>\n",
       "    </tr>\n",
       "  </tbody>\n",
       "</table>\n",
       "</div>"
      ],
      "text/plain": [
       "   last_purchase  days_since_last_purchase  total_price_items  \\\n",
       "0   1.534792e+09                      2129             729.62   \n",
       "1   1.519757e+09                      2303            1000.85   \n",
       "2   1.530147e+09                      2182             664.20   \n",
       "3   1.527853e+09                      2209             806.61   \n",
       "4   1.518615e+09                      2316             855.21   \n",
       "\n",
       "   total_freight_value  total_orders      date_reference  \n",
       "0               172.42            17 2018-08-20 19:14:26  \n",
       "1               171.82             9 2018-02-27 18:36:39  \n",
       "2                94.63             7 2018-06-28 00:43:34  \n",
       "3               316.11             7 2018-06-01 11:38:29  \n",
       "4               165.91             7 2018-02-14 13:22:12  "
      ]
     },
     "execution_count": 97,
     "metadata": {},
     "output_type": "execute_result"
    }
   ],
   "source": [
    "data['date_reference'] = pd.to_datetime(data['last_purchase'], unit='s')\n",
    "data.head()"
   ]
  },
  {
   "cell_type": "code",
   "execution_count": 108,
   "id": "23f91e8d-e7a9-49be-b45d-6016c0b56774",
   "metadata": {},
   "outputs": [],
   "source": [
    "#set init over a month\n",
    "period_start = pd.to_datetime('2017-01-01')\n",
    "period_end = pd.to_datetime('2017-02-01')\n",
    "mask_F0 = (data['date_reference'] > period_start) & (\n",
    "    data['date_reference'] <= period_end)\n",
    "data_init = data.loc[mask_F0].drop(columns='date_reference')"
   ]
  },
  {
   "cell_type": "code",
   "execution_count": 80,
   "id": "cbcb60ae-39c6-4d04-8d53-a03eeba6476a",
   "metadata": {},
   "outputs": [],
   "source": [
    "#importing pipeline from clustering notebook\n",
    "#Pipeline scaling+training\n",
    "def train_kmeans(data, scaler, best_k):\n",
    "    pipeline = Pipeline([\n",
    "    ('scaler', scaler),\n",
    "    ('kmeans', KMeans(n_clusters=best_k, random_state=42, n_init=10, init='k-means++'))\n",
    "])\n",
    "    return pipeline.fit(data)"
   ]
  },
  {
   "cell_type": "code",
   "execution_count": 109,
   "id": "a9b51ce9-e00d-4a5a-8640-d4b3564c480a",
   "metadata": {},
   "outputs": [
    {
     "data": {
      "text/html": [
       "<div>\n",
       "<style scoped>\n",
       "    .dataframe tbody tr th:only-of-type {\n",
       "        vertical-align: middle;\n",
       "    }\n",
       "\n",
       "    .dataframe tbody tr th {\n",
       "        vertical-align: top;\n",
       "    }\n",
       "\n",
       "    .dataframe thead th {\n",
       "        text-align: right;\n",
       "    }\n",
       "</style>\n",
       "<table border=\"1\" class=\"dataframe\">\n",
       "  <thead>\n",
       "    <tr style=\"text-align: right;\">\n",
       "      <th></th>\n",
       "      <th>last_purchase</th>\n",
       "      <th>days_since_last_purchase</th>\n",
       "      <th>total_price_items</th>\n",
       "      <th>total_freight_value</th>\n",
       "      <th>total_orders</th>\n",
       "    </tr>\n",
       "  </thead>\n",
       "  <tbody>\n",
       "    <tr>\n",
       "      <th>5</th>\n",
       "      <td>1.483630e+09</td>\n",
       "      <td>2721</td>\n",
       "      <td>58.40</td>\n",
       "      <td>52.32</td>\n",
       "      <td>6</td>\n",
       "    </tr>\n",
       "    <tr>\n",
       "      <th>39</th>\n",
       "      <td>1.483625e+09</td>\n",
       "      <td>2721</td>\n",
       "      <td>38.60</td>\n",
       "      <td>34.88</td>\n",
       "      <td>4</td>\n",
       "    </tr>\n",
       "    <tr>\n",
       "      <th>140</th>\n",
       "      <td>1.485437e+09</td>\n",
       "      <td>2700</td>\n",
       "      <td>269.22</td>\n",
       "      <td>81.75</td>\n",
       "      <td>3</td>\n",
       "    </tr>\n",
       "    <tr>\n",
       "      <th>161</th>\n",
       "      <td>1.483624e+09</td>\n",
       "      <td>2721</td>\n",
       "      <td>30.70</td>\n",
       "      <td>26.16</td>\n",
       "      <td>3</td>\n",
       "    </tr>\n",
       "    <tr>\n",
       "      <th>176</th>\n",
       "      <td>1.483618e+09</td>\n",
       "      <td>2721</td>\n",
       "      <td>20.70</td>\n",
       "      <td>26.16</td>\n",
       "      <td>3</td>\n",
       "    </tr>\n",
       "  </tbody>\n",
       "</table>\n",
       "</div>"
      ],
      "text/plain": [
       "     last_purchase  days_since_last_purchase  total_price_items  \\\n",
       "5     1.483630e+09                      2721              58.40   \n",
       "39    1.483625e+09                      2721              38.60   \n",
       "140   1.485437e+09                      2700             269.22   \n",
       "161   1.483624e+09                      2721              30.70   \n",
       "176   1.483618e+09                      2721              20.70   \n",
       "\n",
       "     total_freight_value  total_orders  \n",
       "5                  52.32             6  \n",
       "39                 34.88             4  \n",
       "140                81.75             3  \n",
       "161                26.16             3  \n",
       "176                26.16             3  "
      ]
     },
     "execution_count": 109,
     "metadata": {},
     "output_type": "execute_result"
    }
   ],
   "source": [
    "data_init.head()"
   ]
  },
  {
   "cell_type": "code",
   "execution_count": null,
   "id": "3da24aac-c6e3-4ab9-86ff-93bfa3b454ca",
   "metadata": {},
   "outputs": [],
   "source": [
    "#fit data \n",
    "kmeans_init = train_kmeans(data_init, StandardScaler(), 4)\n",
    "\n",
    "#clustering labels\n",
    "init_labels = kmeans_init.named_steps['kmeans'].labels_"
   ]
  },
  {
   "cell_type": "code",
   "execution_count": 114,
   "id": "a4f798ac-4364-43ca-af46-29dce1ea099d",
   "metadata": {},
   "outputs": [
    {
     "name": "stdout",
     "output_type": "stream",
     "text": [
      "[[1, 0.030522477045932823], [2, 0.02887626745968392], [3, 0.027374789184944452], [4, 0.026744343652586215], [5, 0.025768001648417412], [6, 0.024983164312105524], [7, 0.02416430051042637], [8, 0.01914886970076701], [9, 0.01913986565587539], [10, 0.019204300271262305], [11, 0.019204300271262305]]\n"
     ]
    }
   ],
   "source": [
    "#init empty ari score\n",
    "ari_score_month = []\n",
    "\n",
    "#loop on each month\n",
    "for p in range(1, 12):\n",
    "    # Création des datasets par périodes\n",
    "    start_date = pd.to_datetime('2017-01-01')\n",
    "    start_T0 = pd.to_datetime('2018-01-01')\n",
    "    start_date_Tp = start_T0 + relativedelta(months=p)  # Incrémentation de 1 mois\n",
    "    data_period = data.copy()\n",
    "    mask_data_period = (data['date_reference'] > start_date) & (\n",
    "        data['date_reference'] <= start_date_Tp)\n",
    "    data_period = data.loc[mask_data_period].drop(\n",
    "        columns='date_reference')\n",
    "\n",
    "    # K-Means\n",
    "    kmeans_p = train_kmeans(data_period, StandardScaler(), 4)   \n",
    "    p_labels = kmeans_p.named_steps['kmeans'].labels_\n",
    "\n",
    "    # Calcul des ARI score\n",
    "    ari_p = adjusted_rand_score(kmeans_init.predict(\n",
    "        data_period), kmeans_p.predict(data_period))\n",
    "    ari_score_month.append([p, ari_p])\n",
    "\n",
    "print(ari_score_month)"
   ]
  },
  {
   "cell_type": "markdown",
   "id": "827c5008-481a-4a92-aa98-75e8102b549e",
   "metadata": {},
   "source": [
    "The first month is the same and is used as a checker. Just by the second month, differences are about 70%"
   ]
  },
  {
   "cell_type": "code",
   "execution_count": 116,
   "id": "6f08943a-c2a1-4e58-80b0-1e107d737674",
   "metadata": {},
   "outputs": [
    {
     "data": {
      "image/png": "[encoded data removed]",
      "text/plain": [
       "<Figure size 640x480 with 1 Axes>"
      ]
     },
     "metadata": {},
     "output_type": "display_data"
    }
   ],
   "source": [
    "#plot ARI evolution per month\n",
    "plt.plot(range(1, 12), ari_score_month, marker='o')\n",
    "plt.xlabel('Time Step - Month')\n",
    "plt.ylabel('ARI Score')\n",
    "plt.title('ARI Score Over Time')\n",
    "plt.axhline(y=0.7, color='r', linestyle='--', label='Re-run Clustering Threshold')\n",
    "plt.legend()\n",
    "plt.show()"
   ]
  },
  {
   "cell_type": "code",
   "execution_count": 118,
   "id": "26389c3b-d265-468e-9f7e-222aa78b5290",
   "metadata": {},
   "outputs": [
    {
     "name": "stdout",
     "output_type": "stream",
     "text": [
      "[[1, 0.032737156699309045], [2, 0.03190983958401319], [3, 0.031490886261508845], [4, 0.030640138586527834], [5, 0.030235507637695086], [6, 0.029593497075389302], [7, 0.0293652247146291], [8, 0.029044200899198323], [9, 0.028585131796896476], [10, 0.028519542929389564], [11, 0.02813222353537782], [12, 0.027613234637607776], [13, 0.027428548358012637], [14, 0.027224331528782137], [15, 0.027194782751771014], [16, 0.02692318332698376], [17, 0.026899959149014066], [18, 0.02652395456297211], [19, 0.026396895894845663], [20, 0.026072674083363896], [21, 0.025945323290362206], [22, 0.02578557428180392], [23, 0.025601192963239514], [24, 0.025341815471253738], [25, 0.02507403062160267], [26, 0.02501859888574031], [27, 0.024785662095797897], [28, 0.024792141362602535], [29, 0.024601875224142766], [30, 0.024269918811386928], [31, 0.02364910126070799], [32, 0.01973773073059024], [33, 0.019417227070045753], [34, 0.019170226379388908], [35, 0.01914886970076701], [36, 0.019144717307127735], [37, 0.019144242420943956], [38, 0.019138501539296228], [39, 0.01913986565587539], [40, 0.01913787889825383], [41, 0.01913787889825383], [42, 0.019204300271262305], [43, 0.019204300271262305], [44, 0.019204300271262305], [45, 0.019204300271262305], [46, 0.019204300271262305], [47, 0.019204300271262305], [48, 0.019204300271262305], [49, 0.019204300271262305], [50, 0.019204300271262305], [51, 0.019204300271262305]]\n"
     ]
    }
   ],
   "source": [
    "#init empty ari score\n",
    "ari_score_weeks = []\n",
    "\n",
    "#loop on each month\n",
    "for p in range(1, 52):\n",
    "    # Création des datasets par périodes\n",
    "    start_date = pd.to_datetime('2017-01-01')\n",
    "    start_T0 = pd.to_datetime('2018-01-01')\n",
    "    start_date_Tp = start_T0 + relativedelta(days=+7*p)  # Incrémentation de 1 semaine\n",
    "    data_period = data.copy()\n",
    "    mask_data_period = (data['date_reference'] > start_date) & (\n",
    "        data['date_reference'] <= start_date_Tp)\n",
    "    data_period = data.loc[mask_data_period].drop(\n",
    "        columns='date_reference')\n",
    "\n",
    "    # K-Means\n",
    "    kmeans_p = train_kmeans(data_period, StandardScaler(), 4)   \n",
    "    p_labels = kmeans_p.named_steps['kmeans'].labels_\n",
    "\n",
    "    # Calcul des ARI score\n",
    "    ari_p = adjusted_rand_score(kmeans_init.predict(\n",
    "        data_period), kmeans_p.predict(data_period))\n",
    "    ari_score_weeks.append([p, ari_p])\n",
    "\n",
    "print(ari_score_weeks)"
   ]
  },
  {
   "cell_type": "code",
   "execution_count": 120,
   "id": "d8a09cb9-882b-4214-87e6-e84275e799f1",
   "metadata": {},
   "outputs": [
    {
     "data": {
      "image/png": "[encoded data removed]",
      "text/plain": [
       "<Figure size 640x480 with 1 Axes>"
      ]
     },
     "metadata": {},
     "output_type": "display_data"
    }
   ],
   "source": [
    "#plot ARI evolution per week\n",
    "plt.plot(range(1, 52), ari_score_weeks, marker='o')\n",
    "plt.xlabel('Time Step - Week')\n",
    "plt.ylabel('ARI Score')\n",
    "plt.title('ARI Score Over Time')\n",
    "plt.axhline(y=0.7, color='r', linestyle='--', label='Re-run Clustering Threshold')\n",
    "plt.legend()\n",
    "plt.show()"
   ]
  }
 ],
 "metadata": {
  "kernelspec": {
   "display_name": "Python 3 (ipykernel)",
   "language": "python",
   "name": "python3"
  },
  "language_info": {
   "codemirror_mode": {
    "name": "ipython",
    "version": 3
   },
   "file_extension": ".py",
   "mimetype": "text/x-python",
   "name": "python",
   "nbconvert_exporter": "python",
   "pygments_lexer": "ipython3",
   "version": "3.11.5"
  }
 },
 "nbformat": 4,
 "nbformat_minor": 5
}
