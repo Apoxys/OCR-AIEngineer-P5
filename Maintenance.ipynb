{
 "cells": [
  {
   "cell_type": "markdown",
   "id": "f62e6750-d4c0-4a0f-916d-496407fc6e62",
   "metadata": {},
   "source": [
    "# Olist : maintenance"
   ]
  },
  {
   "cell_type": "code",
   "execution_count": 39,
   "id": "4a8469ba-a17e-4519-8025-dcc22c30ee0c",
   "metadata": {},
   "outputs": [],
   "source": [
    "#librairies import\n",
    "\n",
    "import pandas as pd\n",
    "import numpy as np\n",
    "import scipy as scp\n",
    "import matplotlib.pyplot as plt\n",
    "import seaborn as sns\n",
    "\n",
    "import joblib\n",
    "\n",
    "from sklearn.preprocessing import StandardScaler\n",
    "\n",
    "from sklearn.cluster import KMeans\n",
    "\n",
    "from scipy.stats import kstest, norm, expon, uniform"
   ]
  },
  {
   "cell_type": "markdown",
   "id": "b028c661-14cb-49e2-8aea-3ad3f0f001b8",
   "metadata": {},
   "source": [
    "We will first use the ks test to evaluate if our data follows a certain logic"
   ]
  },
  {
   "cell_type": "code",
   "execution_count": 40,
   "id": "81c7988b-69d7-4f69-9a24-8bf260287190",
   "metadata": {},
   "outputs": [
    {
     "data": {
      "text/html": [
       "<div>\n",
       "<style scoped>\n",
       "    .dataframe tbody tr th:only-of-type {\n",
       "        vertical-align: middle;\n",
       "    }\n",
       "\n",
       "    .dataframe tbody tr th {\n",
       "        vertical-align: top;\n",
       "    }\n",
       "\n",
       "    .dataframe thead th {\n",
       "        text-align: right;\n",
       "    }\n",
       "</style>\n",
       "<table border=\"1\" class=\"dataframe\">\n",
       "  <thead>\n",
       "    <tr style=\"text-align: right;\">\n",
       "      <th></th>\n",
       "      <th>last_purchase</th>\n",
       "      <th>days_since_last_purchase</th>\n",
       "      <th>total_price_items</th>\n",
       "      <th>km_cluster</th>\n",
       "      <th>total_freight_value</th>\n",
       "      <th>total_orders</th>\n",
       "      <th>km_enriched_cluster</th>\n",
       "      <th>DBSCAN_cluster</th>\n",
       "    </tr>\n",
       "  </thead>\n",
       "  <tbody>\n",
       "    <tr>\n",
       "      <th>0</th>\n",
       "      <td>1.534792e+09</td>\n",
       "      <td>2129</td>\n",
       "      <td>729.62</td>\n",
       "      <td>0</td>\n",
       "      <td>172.42</td>\n",
       "      <td>17</td>\n",
       "      <td>4</td>\n",
       "      <td>-1</td>\n",
       "    </tr>\n",
       "    <tr>\n",
       "      <th>1</th>\n",
       "      <td>1.519757e+09</td>\n",
       "      <td>2303</td>\n",
       "      <td>1000.85</td>\n",
       "      <td>3</td>\n",
       "      <td>171.82</td>\n",
       "      <td>9</td>\n",
       "      <td>4</td>\n",
       "      <td>-1</td>\n",
       "    </tr>\n",
       "    <tr>\n",
       "      <th>2</th>\n",
       "      <td>1.530147e+09</td>\n",
       "      <td>2182</td>\n",
       "      <td>664.20</td>\n",
       "      <td>0</td>\n",
       "      <td>94.63</td>\n",
       "      <td>7</td>\n",
       "      <td>4</td>\n",
       "      <td>-1</td>\n",
       "    </tr>\n",
       "    <tr>\n",
       "      <th>3</th>\n",
       "      <td>1.527853e+09</td>\n",
       "      <td>2209</td>\n",
       "      <td>806.61</td>\n",
       "      <td>0</td>\n",
       "      <td>316.11</td>\n",
       "      <td>7</td>\n",
       "      <td>4</td>\n",
       "      <td>-1</td>\n",
       "    </tr>\n",
       "    <tr>\n",
       "      <th>4</th>\n",
       "      <td>1.518615e+09</td>\n",
       "      <td>2316</td>\n",
       "      <td>855.21</td>\n",
       "      <td>3</td>\n",
       "      <td>165.91</td>\n",
       "      <td>7</td>\n",
       "      <td>4</td>\n",
       "      <td>-1</td>\n",
       "    </tr>\n",
       "  </tbody>\n",
       "</table>\n",
       "</div>"
      ],
      "text/plain": [
       "   last_purchase  days_since_last_purchase  total_price_items  km_cluster  \\\n",
       "0   1.534792e+09                      2129             729.62           0   \n",
       "1   1.519757e+09                      2303            1000.85           3   \n",
       "2   1.530147e+09                      2182             664.20           0   \n",
       "3   1.527853e+09                      2209             806.61           0   \n",
       "4   1.518615e+09                      2316             855.21           3   \n",
       "\n",
       "   total_freight_value  total_orders  km_enriched_cluster  DBSCAN_cluster  \n",
       "0               172.42            17                    4              -1  \n",
       "1               171.82             9                    4              -1  \n",
       "2                94.63             7                    4              -1  \n",
       "3               316.11             7                    4              -1  \n",
       "4               165.91             7                    4              -1  "
      ]
     },
     "execution_count": 40,
     "metadata": {},
     "output_type": "execute_result"
    }
   ],
   "source": [
    "data = pd.read_csv('data/data_with_clustering.csv')\n",
    "data.head()"
   ]
  },
  {
   "cell_type": "code",
   "execution_count": 33,
   "id": "6a6cc0cb-5fcd-4f0f-b01a-06e1631cea20",
   "metadata": {},
   "outputs": [],
   "source": [
    "#Model import\n",
    "\n",
    "joblib_file = \"kmeans_model.pkl\"\n",
    "kmeans_original = joblib.load(joblib_file)"
   ]
  },
  {
   "cell_type": "markdown",
   "id": "857de7f9-f881-4172-8055-c388c69f0bcf",
   "metadata": {},
   "source": [
    "### ARI analysis"
   ]
  },
  {
   "cell_type": "markdown",
   "id": "fa73f171-52c4-4d55-934e-ab48692555ff",
   "metadata": {},
   "source": [
    "We will use the KS test to establish which statistical law is the fittest to simulate data evolution, then use the ARI to see when changes are to important, therefore calling for a retraining of the model"
   ]
  },
  {
   "cell_type": "code",
   "execution_count": 41,
   "id": "980cbc22-898d-4a74-8835-2fe4f798341d",
   "metadata": {},
   "outputs": [
    {
     "data": {
      "text/html": [
       "<div>\n",
       "<style scoped>\n",
       "    .dataframe tbody tr th:only-of-type {\n",
       "        vertical-align: middle;\n",
       "    }\n",
       "\n",
       "    .dataframe tbody tr th {\n",
       "        vertical-align: top;\n",
       "    }\n",
       "\n",
       "    .dataframe thead th {\n",
       "        text-align: right;\n",
       "    }\n",
       "</style>\n",
       "<table border=\"1\" class=\"dataframe\">\n",
       "  <thead>\n",
       "    <tr style=\"text-align: right;\">\n",
       "      <th></th>\n",
       "      <th>last_purchase</th>\n",
       "      <th>days_since_last_purchase</th>\n",
       "      <th>total_price_items</th>\n",
       "      <th>total_freight_value</th>\n",
       "      <th>total_orders</th>\n",
       "    </tr>\n",
       "  </thead>\n",
       "  <tbody>\n",
       "    <tr>\n",
       "      <th>0</th>\n",
       "      <td>1.534792e+09</td>\n",
       "      <td>2129</td>\n",
       "      <td>729.62</td>\n",
       "      <td>172.42</td>\n",
       "      <td>17</td>\n",
       "    </tr>\n",
       "    <tr>\n",
       "      <th>1</th>\n",
       "      <td>1.519757e+09</td>\n",
       "      <td>2303</td>\n",
       "      <td>1000.85</td>\n",
       "      <td>171.82</td>\n",
       "      <td>9</td>\n",
       "    </tr>\n",
       "    <tr>\n",
       "      <th>2</th>\n",
       "      <td>1.530147e+09</td>\n",
       "      <td>2182</td>\n",
       "      <td>664.20</td>\n",
       "      <td>94.63</td>\n",
       "      <td>7</td>\n",
       "    </tr>\n",
       "    <tr>\n",
       "      <th>3</th>\n",
       "      <td>1.527853e+09</td>\n",
       "      <td>2209</td>\n",
       "      <td>806.61</td>\n",
       "      <td>316.11</td>\n",
       "      <td>7</td>\n",
       "    </tr>\n",
       "    <tr>\n",
       "      <th>4</th>\n",
       "      <td>1.518615e+09</td>\n",
       "      <td>2316</td>\n",
       "      <td>855.21</td>\n",
       "      <td>165.91</td>\n",
       "      <td>7</td>\n",
       "    </tr>\n",
       "  </tbody>\n",
       "</table>\n",
       "</div>"
      ],
      "text/plain": [
       "   last_purchase  days_since_last_purchase  total_price_items  \\\n",
       "0   1.534792e+09                      2129             729.62   \n",
       "1   1.519757e+09                      2303            1000.85   \n",
       "2   1.530147e+09                      2182             664.20   \n",
       "3   1.527853e+09                      2209             806.61   \n",
       "4   1.518615e+09                      2316             855.21   \n",
       "\n",
       "   total_freight_value  total_orders  \n",
       "0               172.42            17  \n",
       "1               171.82             9  \n",
       "2                94.63             7  \n",
       "3               316.11             7  \n",
       "4               165.91             7  "
      ]
     },
     "execution_count": 41,
     "metadata": {},
     "output_type": "execute_result"
    }
   ],
   "source": [
    "data = data.drop(columns = ['km_enriched_cluster', 'DBSCAN_cluster', 'km_cluster'])\n",
    "data.head()"
   ]
  },
  {
   "cell_type": "code",
   "execution_count": 42,
   "id": "d2e7f393-a28c-4ba7-a3bb-111184ae1fbd",
   "metadata": {},
   "outputs": [
    {
     "name": "stdout",
     "output_type": "stream",
     "text": [
      "Feature: last_purchase\n",
      "D-statistic: 1.0000, p-value: 0.0000\n",
      "---\n",
      "Feature: days_since_last_purchase\n",
      "D-statistic: 1.0000, p-value: 0.0000\n",
      "---\n",
      "Feature: total_price_items\n",
      "D-statistic: 0.9999, p-value: 0.0000\n",
      "---\n",
      "Feature: total_freight_value\n",
      "D-statistic: 0.9965, p-value: 0.0000\n",
      "---\n",
      "Feature: total_orders\n",
      "D-statistic: 0.8413, p-value: 0.0000\n",
      "---\n"
     ]
    }
   ],
   "source": [
    "# Iterate over each column (feature) in the dataframe\n",
    "\n",
    "for col in data.columns:\n",
    "    # Extract the numpy array for the current feature\n",
    "    feature_array = data[col].values\n",
    "\n",
    "    # Perform the Kolmogorov-Smirnov test\n",
    "    D, p = stats.kstest(feature_array, 'norm')  # Test against a normal distribution\n",
    "\n",
    "    # Print the results\n",
    "    print(f\"Feature: {col}\")\n",
    "    print(f\"D-statistic: {D:.4f}, p-value: {p:.4f}\")\n",
    "    print(\"---\")"
   ]
  },
  {
   "cell_type": "code",
   "execution_count": 43,
   "id": "8fa1a78e-9041-4b0e-bc91-062b8c1260e1",
   "metadata": {},
   "outputs": [
    {
     "name": "stdout",
     "output_type": "stream",
     "text": [
      "Feature: last_purchase\n",
      "D-statistic: 1.0000, p-value: 0.0000\n",
      "---\n",
      "Feature: days_since_last_purchase\n",
      "D-statistic: 1.0000, p-value: 0.0000\n",
      "---\n",
      "Feature: total_price_items\n",
      "D-statistic: 0.9978, p-value: 0.0000\n",
      "---\n",
      "Feature: total_freight_value\n",
      "D-statistic: 0.9957, p-value: 0.0000\n",
      "---\n",
      "Feature: total_orders\n",
      "D-statistic: 0.6321, p-value: 0.0000\n",
      "---\n"
     ]
    }
   ],
   "source": [
    "# Iterate over each column (feature) in the dataframe\n",
    "\n",
    "for col in data.columns:\n",
    "    # Extract the numpy array for the current feature\n",
    "    feature_array = data[col].values\n",
    "\n",
    "    # Perform the Kolmogorov-Smirnov test\n",
    "    D, p = stats.kstest(feature_array, 'expon')  # Test against a normal distribution\n",
    "\n",
    "    # Print the results\n",
    "    print(f\"Feature: {col}\")\n",
    "    print(f\"D-statistic: {D:.4f}, p-value: {p:.4f}\")\n",
    "    print(\"---\")"
   ]
  },
  {
   "cell_type": "code",
   "execution_count": null,
   "id": "24612dc6-6ee6-4d73-b445-058585b2389f",
   "metadata": {},
   "outputs": [],
   "source": [
    "'''#Testing law selection automation \n",
    "\n",
    "#automaticaly detect the best law based on p_value\n",
    "for each in [ks_test_normal, ks_test_expon, ks_test_uniform]:\n",
    "    threshold = 0.05\n",
    "    if each.p_value() > threshold:\n",
    "        print(f'data is following {each} law')'''"
   ]
  },
  {
   "cell_type": "code",
   "execution_count": null,
   "id": "3d1ae7c6-d8ff-4449-a94e-92595301e3d4",
   "metadata": {},
   "outputs": [],
   "source": [
    "#Depending on KS results\n",
    "\n",
    "#norm\n",
    "noise_norm = np.random.normal(0, 0.5, data.shape)\n",
    "evolved_data_norm = data + noise\n",
    "\n",
    "#expon\n",
    "noise_expon = np.random.exponential(0, 0.5, data.shape)\n",
    "evolved_data_expon = data + noise\n",
    "\n",
    "#uniform\n",
    "noise_uni = np.random.uniform(0, 0.5, data.shape)\n",
    "evolved_data_uni = data + noise"
   ]
  },
  {
   "cell_type": "code",
   "execution_count": null,
   "id": "8538419c-ee80-4cc4-94fa-6693e0f8e9e2",
   "metadata": {},
   "outputs": [],
   "source": [
    "# We will first accept as true that data follows a normal law\n",
    "\n",
    "# Perform clustering on both datasets\n",
    "n_clusters = kmeans_original.n_clusters\n",
    "\n",
    "kmeans_original = KMeans(n_clusters=n_clusters, random_state=42).fit(data)\n",
    "kmeans_evolved = KMeans(n_clusters=n_clusters, random_state=42).fit(evolved_data_norm)\n",
    "\n",
    "# Calculate ARI\n",
    "ari_score = adjusted_rand_score(kmeans_original.labels_, kmeans_evolved.labels_)\n",
    "print(f'Adjusted Rand Index: {ari_score:.3f}')"
   ]
  }
 ],
 "metadata": {
  "kernelspec": {
   "display_name": "Python 3 (ipykernel)",
   "language": "python",
   "name": "python3"
  },
  "language_info": {
   "codemirror_mode": {
    "name": "ipython",
    "version": 3
   },
   "file_extension": ".py",
   "mimetype": "text/x-python",
   "name": "python",
   "nbconvert_exporter": "python",
   "pygments_lexer": "ipython3",
   "version": "3.11.5"
  }
 },
 "nbformat": 4,
 "nbformat_minor": 5
}
