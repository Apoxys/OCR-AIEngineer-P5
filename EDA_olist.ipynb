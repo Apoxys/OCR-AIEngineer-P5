{
 "cells": [
  {
   "cell_type": "markdown",
   "id": "ebf559b4-7c40-4709-864e-74282d37b4a2",
   "metadata": {},
   "source": [
    "# Olist : clusterisation - EDA"
   ]
  },
  {
   "cell_type": "code",
   "execution_count": 188,
   "id": "2a712837-e580-4195-808d-395cc4eaa60e",
   "metadata": {},
   "outputs": [],
   "source": [
    "#librairies import\n",
    "\n",
    "import pandas as pd\n",
    "import numpy as np\n",
    "import scipy as scp\n",
    "import matplotlib.pyplot as plt\n",
    "import seaborn as sns\n",
    "\n",
    "import joblib\n",
    "\n",
    "from datetime import datetime\n",
    "\n",
    "from sklearn.pipeline import Pipeline\n",
    "from sklearn.preprocessing import StandardScaler\n",
    "from sklearn.preprocessing import MinMaxScaler\n",
    "\n",
    "from sklearn.cluster import KMeans\n",
    "from sklearn.cluster import DBSCAN\n",
    "from sklearn.cluster import AgglomerativeClustering\n",
    "\n",
    "from sklearn.metrics import silhouette_score\n",
    "from yellowbrick.cluster import KElbowVisualizer, SilhouetteVisualizer"
   ]
  },
  {
   "cell_type": "code",
   "execution_count": 189,
   "id": "4936cbc5-3ad2-4f85-b675-26e9cc7560eb",
   "metadata": {},
   "outputs": [],
   "source": [
    "data = pd.read_csv('data/olist_customers_whole.csv')"
   ]
  },
  {
   "cell_type": "code",
   "execution_count": 190,
   "id": "e2f2481e-c58d-4f5d-86d3-65031d478eb0",
   "metadata": {},
   "outputs": [
    {
     "data": {
      "text/html": [
       "<div>\n",
       "<style scoped>\n",
       "    .dataframe tbody tr th:only-of-type {\n",
       "        vertical-align: middle;\n",
       "    }\n",
       "\n",
       "    .dataframe tbody tr th {\n",
       "        vertical-align: top;\n",
       "    }\n",
       "\n",
       "    .dataframe thead th {\n",
       "        text-align: right;\n",
       "    }\n",
       "</style>\n",
       "<table border=\"1\" class=\"dataframe\">\n",
       "  <thead>\n",
       "    <tr style=\"text-align: right;\">\n",
       "      <th></th>\n",
       "      <th>customer_unique_id</th>\n",
       "      <th>first_purchase</th>\n",
       "      <th>last_purchase</th>\n",
       "      <th>total_orders</th>\n",
       "      <th>total_spent</th>\n",
       "      <th>average_review_score</th>\n",
       "      <th>all_comments</th>\n",
       "      <th>total_price_items</th>\n",
       "      <th>total_freight_value</th>\n",
       "      <th>product_categories</th>\n",
       "      <th>seller_cities</th>\n",
       "      <th>order_statuses</th>\n",
       "    </tr>\n",
       "  </thead>\n",
       "  <tbody>\n",
       "    <tr>\n",
       "      <th>0</th>\n",
       "      <td>8d50f5eadf50201ccdcedfb9e2ac8455</td>\n",
       "      <td>2017-05-15 23:30:03</td>\n",
       "      <td>2018-08-20 19:14:26</td>\n",
       "      <td>17</td>\n",
       "      <td>927.63</td>\n",
       "      <td>NaN</td>\n",
       "      <td>NaN</td>\n",
       "      <td>729.62</td>\n",
       "      <td>172.42</td>\n",
       "      <td>construcao_ferramentas_ferramentas, esporte_la...</td>\n",
       "      <td>campinas, curitiba, joinville, londrina, sao j...</td>\n",
       "      <td>delivered, shipped, unavailable</td>\n",
       "    </tr>\n",
       "    <tr>\n",
       "      <th>1</th>\n",
       "      <td>3e43e6105506432c953e165fb2acf44c</td>\n",
       "      <td>2017-09-18 18:53:15</td>\n",
       "      <td>2018-02-27 18:36:39</td>\n",
       "      <td>9</td>\n",
       "      <td>1963.58</td>\n",
       "      <td>NaN</td>\n",
       "      <td>NaN</td>\n",
       "      <td>1000.85</td>\n",
       "      <td>171.82</td>\n",
       "      <td>cama_mesa_banho, casa_construcao, informatica_...</td>\n",
       "      <td>ibitinga, jaguariuna, porto alegre, rio de jan...</td>\n",
       "      <td>delivered</td>\n",
       "    </tr>\n",
       "    <tr>\n",
       "      <th>2</th>\n",
       "      <td>6469f99c1f9dfae7733b25662e7f1782</td>\n",
       "      <td>2017-09-19 01:02:44</td>\n",
       "      <td>2018-06-28 00:43:34</td>\n",
       "      <td>7</td>\n",
       "      <td>973.09</td>\n",
       "      <td>NaN</td>\n",
       "      <td>NaN</td>\n",
       "      <td>664.20</td>\n",
       "      <td>94.63</td>\n",
       "      <td>cama_mesa_banho</td>\n",
       "      <td>ibitinga, piracicaba, sao paulo</td>\n",
       "      <td>delivered</td>\n",
       "    </tr>\n",
       "    <tr>\n",
       "      <th>3</th>\n",
       "      <td>ca77025e7201e3b30c44b472ff346268</td>\n",
       "      <td>2017-10-09 12:34:39</td>\n",
       "      <td>2018-06-01 11:38:29</td>\n",
       "      <td>7</td>\n",
       "      <td>2126.44</td>\n",
       "      <td>NaN</td>\n",
       "      <td>NaN</td>\n",
       "      <td>806.61</td>\n",
       "      <td>316.11</td>\n",
       "      <td>cama_mesa_banho, cool_stuff, moveis_decoracao,...</td>\n",
       "      <td>ibitinga, pedreira, sao paulo</td>\n",
       "      <td>delivered</td>\n",
       "    </tr>\n",
       "    <tr>\n",
       "      <th>4</th>\n",
       "      <td>1b6c7548a2a1f9037c1fd3ddfed95f33</td>\n",
       "      <td>2017-11-13 16:44:41</td>\n",
       "      <td>2018-02-14 13:22:12</td>\n",
       "      <td>7</td>\n",
       "      <td>1386.54</td>\n",
       "      <td>NaN</td>\n",
       "      <td>NaN</td>\n",
       "      <td>855.21</td>\n",
       "      <td>165.91</td>\n",
       "      <td>beleza_saude, moveis_decoracao, papelaria, per...</td>\n",
       "      <td>formiga, itajai, mogi das cruzes, pedreira, sa...</td>\n",
       "      <td>delivered</td>\n",
       "    </tr>\n",
       "  </tbody>\n",
       "</table>\n",
       "</div>"
      ],
      "text/plain": [
       "                 customer_unique_id       first_purchase        last_purchase  \\\n",
       "0  8d50f5eadf50201ccdcedfb9e2ac8455  2017-05-15 23:30:03  2018-08-20 19:14:26   \n",
       "1  3e43e6105506432c953e165fb2acf44c  2017-09-18 18:53:15  2018-02-27 18:36:39   \n",
       "2  6469f99c1f9dfae7733b25662e7f1782  2017-09-19 01:02:44  2018-06-28 00:43:34   \n",
       "3  ca77025e7201e3b30c44b472ff346268  2017-10-09 12:34:39  2018-06-01 11:38:29   \n",
       "4  1b6c7548a2a1f9037c1fd3ddfed95f33  2017-11-13 16:44:41  2018-02-14 13:22:12   \n",
       "\n",
       "   total_orders  total_spent  average_review_score all_comments  \\\n",
       "0            17       927.63                   NaN          NaN   \n",
       "1             9      1963.58                   NaN          NaN   \n",
       "2             7       973.09                   NaN          NaN   \n",
       "3             7      2126.44                   NaN          NaN   \n",
       "4             7      1386.54                   NaN          NaN   \n",
       "\n",
       "   total_price_items  total_freight_value  \\\n",
       "0             729.62               172.42   \n",
       "1            1000.85               171.82   \n",
       "2             664.20                94.63   \n",
       "3             806.61               316.11   \n",
       "4             855.21               165.91   \n",
       "\n",
       "                                  product_categories  \\\n",
       "0  construcao_ferramentas_ferramentas, esporte_la...   \n",
       "1  cama_mesa_banho, casa_construcao, informatica_...   \n",
       "2                                    cama_mesa_banho   \n",
       "3  cama_mesa_banho, cool_stuff, moveis_decoracao,...   \n",
       "4  beleza_saude, moveis_decoracao, papelaria, per...   \n",
       "\n",
       "                                       seller_cities  \\\n",
       "0  campinas, curitiba, joinville, londrina, sao j...   \n",
       "1  ibitinga, jaguariuna, porto alegre, rio de jan...   \n",
       "2                    ibitinga, piracicaba, sao paulo   \n",
       "3                      ibitinga, pedreira, sao paulo   \n",
       "4  formiga, itajai, mogi das cruzes, pedreira, sa...   \n",
       "\n",
       "                    order_statuses  \n",
       "0  delivered, shipped, unavailable  \n",
       "1                        delivered  \n",
       "2                        delivered  \n",
       "3                        delivered  \n",
       "4                        delivered  "
      ]
     },
     "execution_count": 190,
     "metadata": {},
     "output_type": "execute_result"
    }
   ],
   "source": [
    "data.head()"
   ]
  },
  {
   "cell_type": "code",
   "execution_count": 191,
   "id": "473d0d5c-59a4-466e-a326-30320f876170",
   "metadata": {},
   "outputs": [
    {
     "name": "stdout",
     "output_type": "stream",
     "text": [
      "<class 'pandas.core.frame.DataFrame'>\n",
      "RangeIndex: 96096 entries, 0 to 96095\n",
      "Data columns (total 12 columns):\n",
      " #   Column                Non-Null Count  Dtype  \n",
      "---  ------                --------------  -----  \n",
      " 0   customer_unique_id    96096 non-null  object \n",
      " 1   first_purchase        96096 non-null  object \n",
      " 2   last_purchase         96096 non-null  object \n",
      " 3   total_orders          96096 non-null  int64  \n",
      " 4   total_spent           96095 non-null  float64\n",
      " 5   average_review_score  279 non-null    float64\n",
      " 6   all_comments          120 non-null    object \n",
      " 7   total_price_items     95420 non-null  float64\n",
      " 8   total_freight_value   95420 non-null  float64\n",
      " 9   product_categories    94107 non-null  object \n",
      " 10  seller_cities         95420 non-null  object \n",
      " 11  order_statuses        96096 non-null  object \n",
      "dtypes: float64(4), int64(1), object(7)\n",
      "memory usage: 8.8+ MB\n"
     ]
    }
   ],
   "source": [
    "data.info()"
   ]
  },
  {
   "cell_type": "code",
   "execution_count": 192,
   "id": "9d834050-3821-4876-b66e-57919aaa48b5",
   "metadata": {},
   "outputs": [
    {
     "data": {
      "text/plain": [
       "count    279.000000\n",
       "mean       4.014337\n",
       "std        1.429321\n",
       "min        1.000000\n",
       "25%        3.000000\n",
       "50%        5.000000\n",
       "75%        5.000000\n",
       "max        5.000000\n",
       "Name: average_review_score, dtype: float64"
      ]
     },
     "execution_count": 192,
     "metadata": {},
     "output_type": "execute_result"
    }
   ],
   "source": [
    "data['average_review_score'].describe()"
   ]
  },
  {
   "cell_type": "code",
   "execution_count": 193,
   "id": "57482f4e-2c20-47e8-b9e9-d40f1495bc8a",
   "metadata": {},
   "outputs": [],
   "source": [
    "#need to translate last_purchase into datetime for later use\n",
    "columns_to_translate_into_datetime = ['last_purchase', 'first_purchase']\n",
    "\n",
    "data[columns_to_translate_into_datetime] = data[columns_to_translate_into_datetime].apply(pd.to_datetime)"
   ]
  },
  {
   "cell_type": "code",
   "execution_count": 194,
   "id": "430b212c-e35b-45a7-921b-ccc80e4fcfe8",
   "metadata": {},
   "outputs": [
    {
     "data": {
      "text/plain": [
       "668"
      ]
     },
     "execution_count": 194,
     "metadata": {},
     "output_type": "execute_result"
    }
   ],
   "source": [
    "#How many different product categories are there\n",
    "pc = data['product_categories']\n",
    "pc.nunique()"
   ]
  },
  {
   "cell_type": "markdown",
   "id": "1a8dd246-8926-4aca-8ac7-d044eb607575",
   "metadata": {},
   "source": [
    "Product categories will probably not be usable, as there are so many of them"
   ]
  },
  {
   "cell_type": "markdown",
   "id": "1294239e-8125-4afd-9dda-08e2ff62f833",
   "metadata": {},
   "source": [
    "#### NAN identification and treatment"
   ]
  },
  {
   "cell_type": "code",
   "execution_count": 197,
   "id": "a8ec3aea-f046-4a27-a38a-5fcde2d2cf97",
   "metadata": {},
   "outputs": [],
   "source": [
    "#Missing values exploration function\n",
    "def null_table(df):\n",
    "    missing_values = df.isnull().sum()\n",
    "    missing_values_percent = (missing_values*100)/len(df)\n",
    "    table = pd.concat([missing_values, missing_values_percent], axis=1)\n",
    "    table_renamed = table.rename(\n",
    "        columns = {0 : \"Missing Values\", 1  : \"Percentage of total\"})\n",
    "    final_table = table_renamed[table_renamed.iloc[:,0] != 0].sort_values(\n",
    "        by='Missing Values', ascending=False).round(2)\n",
    "    \n",
    "    return final_table"
   ]
  },
  {
   "cell_type": "code",
   "execution_count": 198,
   "id": "4798031b-93d5-4a33-ba51-36d40f6ced36",
   "metadata": {},
   "outputs": [
    {
     "data": {
      "text/html": [
       "<div>\n",
       "<style scoped>\n",
       "    .dataframe tbody tr th:only-of-type {\n",
       "        vertical-align: middle;\n",
       "    }\n",
       "\n",
       "    .dataframe tbody tr th {\n",
       "        vertical-align: top;\n",
       "    }\n",
       "\n",
       "    .dataframe thead th {\n",
       "        text-align: right;\n",
       "    }\n",
       "</style>\n",
       "<table border=\"1\" class=\"dataframe\">\n",
       "  <thead>\n",
       "    <tr style=\"text-align: right;\">\n",
       "      <th></th>\n",
       "      <th>Missing Values</th>\n",
       "      <th>Percentage of total</th>\n",
       "    </tr>\n",
       "  </thead>\n",
       "  <tbody>\n",
       "    <tr>\n",
       "      <th>all_comments</th>\n",
       "      <td>95976</td>\n",
       "      <td>99.88</td>\n",
       "    </tr>\n",
       "    <tr>\n",
       "      <th>average_review_score</th>\n",
       "      <td>95817</td>\n",
       "      <td>99.71</td>\n",
       "    </tr>\n",
       "    <tr>\n",
       "      <th>product_categories</th>\n",
       "      <td>1989</td>\n",
       "      <td>2.07</td>\n",
       "    </tr>\n",
       "    <tr>\n",
       "      <th>total_price_items</th>\n",
       "      <td>676</td>\n",
       "      <td>0.70</td>\n",
       "    </tr>\n",
       "    <tr>\n",
       "      <th>total_freight_value</th>\n",
       "      <td>676</td>\n",
       "      <td>0.70</td>\n",
       "    </tr>\n",
       "    <tr>\n",
       "      <th>seller_cities</th>\n",
       "      <td>676</td>\n",
       "      <td>0.70</td>\n",
       "    </tr>\n",
       "    <tr>\n",
       "      <th>total_spent</th>\n",
       "      <td>1</td>\n",
       "      <td>0.00</td>\n",
       "    </tr>\n",
       "  </tbody>\n",
       "</table>\n",
       "</div>"
      ],
      "text/plain": [
       "                      Missing Values  Percentage of total\n",
       "all_comments                   95976                99.88\n",
       "average_review_score           95817                99.71\n",
       "product_categories              1989                 2.07\n",
       "total_price_items                676                 0.70\n",
       "total_freight_value              676                 0.70\n",
       "seller_cities                    676                 0.70\n",
       "total_spent                        1                 0.00"
      ]
     },
     "execution_count": 198,
     "metadata": {},
     "output_type": "execute_result"
    }
   ],
   "source": [
    "null_table(data)"
   ]
  },
  {
   "cell_type": "code",
   "execution_count": 199,
   "id": "c2f59e1e-4be4-4c69-a6f4-4e5d79d93a73",
   "metadata": {},
   "outputs": [],
   "source": [
    "#filling function\n",
    "def fill_with_median(data, column):\n",
    "    median = data[column].median()\n",
    "    data[column] = data[column].fillna(median)\n",
    "\n",
    "    return data"
   ]
  },
  {
   "cell_type": "code",
   "execution_count": 200,
   "id": "9f3dcee2-1cd4-4744-a912-f0e4e7ae5f82",
   "metadata": {},
   "outputs": [
    {
     "data": {
      "text/plain": [
       "\"\\nNOT FILLING IT NOW - it needs proper correlation analysis. The filling will take place after\\n\\n# removing nan from the features we will use\\ndata = fill_with_median(data, ['total_freight_value', 'total_price_items', 'total_spent'])\\n\\n# checking for nan again\\nnull_table(data)\""
      ]
     },
     "execution_count": 200,
     "metadata": {},
     "output_type": "execute_result"
    }
   ],
   "source": [
    "'''\n",
    "NOT FILLING IT NOW - it needs proper correlation analysis. The filling will take place after\n",
    "\n",
    "# removing nan from the features we will use\n",
    "data = fill_with_median(data, ['total_freight_value', 'total_price_items', 'total_spent'])\n",
    "\n",
    "# checking for nan again\n",
    "null_table(data)'''"
   ]
  },
  {
   "cell_type": "markdown",
   "id": "1e6cca9a-18e4-49eb-b883-961757755e2f",
   "metadata": {},
   "source": [
    "all_comments and average_review_score are over 99% empty, and therefore unusable for our analysis \\\n",
    "We will also drop seller cities, as these information concerns seller and not customers (should adjust SQL query accoringly)\\\n",
    "We will drop them before any other treatment\n",
    "\n",
    "CAUTION ! These features could be very interesting, should they be better filled in the future ! \\\n",
    "Each instances of re-training should be accompanied by a new exploration regarding these features ! "
   ]
  },
  {
   "cell_type": "markdown",
   "id": "73bc2cec-a7e8-4c7f-a3ae-27ad6af8d4c5",
   "metadata": {},
   "source": [
    "### A short review of outliers populations"
   ]
  },
  {
   "cell_type": "markdown",
   "id": "ca6c604d-9dbc-4b49-8619-45975fffcbd4",
   "metadata": {},
   "source": [
    "#### Outliers detection"
   ]
  },
  {
   "cell_type": "code",
   "execution_count": 204,
   "id": "d09451f8-6981-47f4-9805-d6f8484efba6",
   "metadata": {},
   "outputs": [
    {
     "name": "stdout",
     "output_type": "stream",
     "text": [
      "total_freight_value 9035 outliers detected\n",
      "9.4 % of column\n",
      "total_price_items 8124 outliers detected\n",
      "8.45 % of column\n",
      "total_spent 9441 outliers detected\n",
      "9.82 % of column\n"
     ]
    }
   ],
   "source": [
    "# with IQR\n",
    "numerical_features = ['total_freight_value', 'total_price_items', 'total_spent']\n",
    "\n",
    "for col in numerical_features:\n",
    "    \n",
    "    Q1 = data[col].quantile(0.25)\n",
    "    Q3 = data[col].quantile(0.75)\n",
    "    IQR = Q3 - Q1\n",
    "    \n",
    "    lower_bound = Q1 - 1.5 * IQR\n",
    "    upper_bound = Q3 + 1.5 * IQR\n",
    "    outliers = data[(data[col] < lower_bound) | (data[col] > upper_bound)]\n",
    "    total = len(outliers)\n",
    "    outlier_percentage = round((total/len(data))*100, 2)\n",
    "    \n",
    "    print(col, total, 'outliers detected')\n",
    "    print(outlier_percentage, '% of column')\n",
    "    \n",
    "    ''' # Visualize outliers using a box plot\n",
    "    plt.boxplot(data[col], showfliers=True, sym='o')\n",
    "    plt.title(f'Box Plot of {col}')\n",
    "    plt.xlabel('Feature')\n",
    "    plt.ylabel(col)\n",
    "    plt.show()'''"
   ]
  },
  {
   "cell_type": "markdown",
   "id": "ef5fa894-139e-47e2-8217-0a8262b6a3cb",
   "metadata": {},
   "source": [
    "IQR method seems more severe. Due to the lack of data, we will try to increase its quality by applying sever corrections \\\n",
    "CAREFUL !! Apply changes only to customers with only 1 order. Rest of them are rare"
   ]
  },
  {
   "cell_type": "markdown",
   "id": "8a533dfd-608c-4825-97aa-0a35d91f800f",
   "metadata": {},
   "source": [
    "#### Outliers treatment"
   ]
  },
  {
   "cell_type": "markdown",
   "id": "b4ed6bcb-bf69-46be-989e-a5fd013fc46b",
   "metadata": {},
   "source": [
    "Since more than 5% of columns are outliers, we will try either to replace outliers with median or perhaps an IterativeImputer, if correlated pairs are identified"
   ]
  },
  {
   "cell_type": "code",
   "execution_count": 208,
   "id": "fed1c996-90c8-4038-b66c-94ec85a01cfc",
   "metadata": {},
   "outputs": [],
   "source": [
    "from sklearn.experimental import enable_iterative_imputer\n",
    "from sklearn.impute import IterativeImputer\n",
    "\n",
    "def iterative_filling(df, threshold):\n",
    "    #identify NUMERCIAL values\n",
    "    numerical_to_fill = df.select_dtypes(np.number)\n",
    "    #analyze correlation\n",
    "    corrmap = numerical_to_fill.corr()\n",
    "    #defining threshold\n",
    "    mask = np.abs(corrmap) > threshold\n",
    "    #preparing the pairs\n",
    "    correlated_pairs = []\n",
    "    # Iterate over the correlation matrix\n",
    "    for i in range(len(corrmap.columns)):\n",
    "        for j in range(i+1, len(corrmap.columns)):  # Start from i+1 to avoid self-comparison\n",
    "            if np.abs(corrmap.iloc[i, j]) > threshold:\n",
    "                # Append the pair of feature names if above threshold\n",
    "                correlated_pairs.append([corrmap.columns[i], corrmap.columns[j]])\n",
    "    \n",
    "    #initialize iterative imputer\n",
    "    iter_imputer = IterativeImputer(max_iter=10, random_state=42)\n",
    "\n",
    "    #imputing pair by pair\n",
    "    for pair in correlated_pairs:\n",
    "        # Select only the columns in the pair for imputation\n",
    "        df_pair = df[pair]\n",
    "        # Apply imputation\n",
    "        df_imputed = iter_imputer.fit_transform(df_pair)\n",
    "        # Update the original DataFrame with the imputed values\n",
    "        df[pair] = df_imputed\n",
    "    \n",
    "    return df"
   ]
  },
  {
   "cell_type": "code",
   "execution_count": 209,
   "id": "768988b6-fc5e-48b1-883e-52496e31f635",
   "metadata": {},
   "outputs": [],
   "source": [
    "#first turn outliers into nans\n",
    "\n",
    "for col in numerical_features:\n",
    "    \n",
    "    Q1 = data[col].quantile(0.25)\n",
    "    Q3 = data[col].quantile(0.75)\n",
    "    IQR = Q3 - Q1\n",
    "    \n",
    "    lower_bound = Q1 - 1.5 * IQR\n",
    "    upper_bound = Q3 + 1.5 * IQR\n",
    "    #modifying ONLY those with 1 order\n",
    "    data.loc[(data[col] < lower_bound) | (data[col] > upper_bound) & (data['total_orders']==1), col] = np.nan\n",
    "\n",
    "#then fill nans with function\n",
    "data = iterative_filling(data, 0.80)"
   ]
  },
  {
   "cell_type": "code",
   "execution_count": 210,
   "id": "6b50455a-dfbc-4ffc-a442-f2235bdc52c7",
   "metadata": {},
   "outputs": [
    {
     "data": {
      "text/html": [
       "<div>\n",
       "<style scoped>\n",
       "    .dataframe tbody tr th:only-of-type {\n",
       "        vertical-align: middle;\n",
       "    }\n",
       "\n",
       "    .dataframe tbody tr th {\n",
       "        vertical-align: top;\n",
       "    }\n",
       "\n",
       "    .dataframe thead th {\n",
       "        text-align: right;\n",
       "    }\n",
       "</style>\n",
       "<table border=\"1\" class=\"dataframe\">\n",
       "  <thead>\n",
       "    <tr style=\"text-align: right;\">\n",
       "      <th></th>\n",
       "      <th>Missing Values</th>\n",
       "      <th>Percentage of total</th>\n",
       "    </tr>\n",
       "  </thead>\n",
       "  <tbody>\n",
       "    <tr>\n",
       "      <th>all_comments</th>\n",
       "      <td>95976</td>\n",
       "      <td>99.88</td>\n",
       "    </tr>\n",
       "    <tr>\n",
       "      <th>average_review_score</th>\n",
       "      <td>95817</td>\n",
       "      <td>99.71</td>\n",
       "    </tr>\n",
       "    <tr>\n",
       "      <th>total_spent</th>\n",
       "      <td>8614</td>\n",
       "      <td>8.96</td>\n",
       "    </tr>\n",
       "    <tr>\n",
       "      <th>total_freight_value</th>\n",
       "      <td>8572</td>\n",
       "      <td>8.92</td>\n",
       "    </tr>\n",
       "    <tr>\n",
       "      <th>total_price_items</th>\n",
       "      <td>8091</td>\n",
       "      <td>8.42</td>\n",
       "    </tr>\n",
       "    <tr>\n",
       "      <th>product_categories</th>\n",
       "      <td>1989</td>\n",
       "      <td>2.07</td>\n",
       "    </tr>\n",
       "    <tr>\n",
       "      <th>seller_cities</th>\n",
       "      <td>676</td>\n",
       "      <td>0.70</td>\n",
       "    </tr>\n",
       "  </tbody>\n",
       "</table>\n",
       "</div>"
      ],
      "text/plain": [
       "                      Missing Values  Percentage of total\n",
       "all_comments                   95976                99.88\n",
       "average_review_score           95817                99.71\n",
       "total_spent                     8614                 8.96\n",
       "total_freight_value             8572                 8.92\n",
       "total_price_items               8091                 8.42\n",
       "product_categories              1989                 2.07\n",
       "seller_cities                    676                 0.70"
      ]
     },
     "execution_count": 210,
     "metadata": {},
     "output_type": "execute_result"
    }
   ],
   "source": [
    "# how many data have not been filled due to lack of correlation ?\n",
    "null_table(data)"
   ]
  },
  {
   "cell_type": "code",
   "execution_count": 211,
   "id": "c0732f52-4e2e-42a2-812d-c73bd4079510",
   "metadata": {},
   "outputs": [],
   "source": [
    "# filling uncorrelated data with precedently used filling function\n",
    "data = fill_with_median(data, ['total_freight_value', 'total_price_items', 'total_spent'])"
   ]
  },
  {
   "cell_type": "markdown",
   "id": "2349b2f9-1e6c-403a-a289-7350c2b75dd0",
   "metadata": {},
   "source": [
    "#### Visual representation"
   ]
  },
  {
   "cell_type": "code",
   "execution_count": 213,
   "id": "cfe0b902-3078-4292-b8c5-eeee77f6f01c",
   "metadata": {},
   "outputs": [
    {
     "data": {
      "text/plain": [
       "<function matplotlib.pyplot.show(close=None, block=None)>"
      ]
     },
     "execution_count": 213,
     "metadata": {},
     "output_type": "execute_result"
    },
    {
     "data": {
      "image/png": "[encoded data removed]",
      "text/plain": [
       "<Figure size 1000x700 with 1 Axes>"
      ]
     },
     "metadata": {},
     "output_type": "display_data"
    }
   ],
   "source": [
    "#plotting the number of orders by clients\n",
    "fig = plt.figure(figsize=(10, 7))\n",
    "x = data['total_orders'].value_counts().sort_index()\n",
    "total = x.sum()\n",
    "ax = x.plot(kind='bar', edgecolor='black')\n",
    "\n",
    "for xaxis, yaxis in enumerate(x):\n",
    "    ax.annotate(str(yaxis), xy=(xaxis, yaxis),  xytext=(0, 5), textcoords='offset points', ha='center')\n",
    "\n",
    "for xaxis, yaxis in enumerate(x):\n",
    "    percentage = (yaxis / total) * 100\n",
    "    ax.annotate(f'{percentage:.2f}%', xy=(xaxis, 1),  xytext=(40, 5), textcoords='offset points', ha='center', va='top', fontsize=10, color='blue')\n",
    "\n",
    "plt.yscale('log')\n",
    "plt.xlabel('number of orders')\n",
    "plt.xticks(rotation=0)\n",
    "plt.ylabel('number of clients')\n",
    "plt.title('Nombre de commandes par clients')\n",
    "plt.tight_layout()\n",
    "\n",
    "plt.show"
   ]
  },
  {
   "cell_type": "markdown",
   "id": "257adb6d-2d46-4d08-b890-37c72f07549f",
   "metadata": {},
   "source": [
    "piechart : 1 commande VS les autres"
   ]
  },
  {
   "cell_type": "markdown",
   "id": "a9813da0-c0c0-461b-b4c9-b90ba0275d2d",
   "metadata": {},
   "source": [
    "On constate qu'à peine plus que 3% des clients on fait plus qu'une seule commande"
   ]
  },
  {
   "cell_type": "code",
   "execution_count": 216,
   "id": "c1f27274-e5ba-4733-b2d2-a3183fed1c20",
   "metadata": {},
   "outputs": [
    {
     "data": {
      "image/png": "[encoded data removed]",
      "text/plain": [
       "<Figure size 1000x600 with 1 Axes>"
      ]
     },
     "metadata": {},
     "output_type": "display_data"
    }
   ],
   "source": [
    "# Calculate the bin edges and counts\n",
    "n, bins = np.histogram(data['total_price_items'], bins=20)\n",
    "\n",
    "# Calculate the total amount spent in each bin\n",
    "bin_totals = [data['total_price_items'][(data['total_price_items'] >= bins[i]) & (data['total_price_items'] < bins[i+1])].sum() for i in range(len(bins)-1)]\n",
    "\n",
    "# Calculate the percentage of people in each bin\n",
    "total_people = len(data)\n",
    "percent_people = [(data['total_price_items'][(data['total_price_items'] >= bins[i]) & (data['total_price_items'] < bins[i+1])].count() / total_people) * 100 for i in range(len(bins)-1)]\n",
    "\n",
    "# Create labels for the pie chart\n",
    "bin_labels = [f'{int(bins[i])}-{int(bins[i+1])} ({percent_people[i]:.1f}%)' for i in range(len(bins)-1)]\n",
    "\n",
    "# Group the bins with small percentages into an 'Others' category\n",
    "threshold = 5  # percentage\n",
    "\n",
    "# Initialize lists for the new labels and totals\n",
    "new_bin_totals = []\n",
    "new_bin_labels = []\n",
    "\n",
    "# Track totals for 'Others' category\n",
    "others_total = 0\n",
    "others_percentage = 0\n",
    "\n",
    "# Iterate through the bins and group small percentages\n",
    "for total, label, percentage in zip(bin_totals, bin_labels, percent_people):\n",
    "    if percentage >= threshold:\n",
    "        new_bin_totals.append(total)\n",
    "        new_bin_labels.append(label)\n",
    "    else:\n",
    "        others_total += total\n",
    "        others_percentage += percentage\n",
    "\n",
    "# Add the 'Others' category if needed\n",
    "if others_total > 0:\n",
    "    new_bin_totals.append(others_total)\n",
    "    new_bin_labels.append(f'Others ({others_percentage:.1f}%)')\n",
    "\n",
    "# Create the pie chart with the new bins\n",
    "plt.figure(figsize=(10, 6))\n",
    "plt.pie(new_bin_totals, labels=new_bin_labels, startangle=0)\n",
    "plt.title('Distribution of Amount Spent')\n",
    "plt.show()"
   ]
  },
  {
   "cell_type": "markdown",
   "id": "8a41ff2e-0b76-4b44-933b-d623701f0c5c",
   "metadata": {},
   "source": [
    "97.4% des clients ont un panier moyen de 120 Reals"
   ]
  },
  {
   "cell_type": "markdown",
   "id": "7407f5d0-411e-4519-9464-697e40147bdd",
   "metadata": {},
   "source": [
    "### RFM : Récence Fréquence Montant"
   ]
  },
  {
   "cell_type": "code",
   "execution_count": 219,
   "id": "376c49aa-8959-42f0-b637-430243fc3c27",
   "metadata": {},
   "outputs": [
    {
     "data": {
      "text/html": [
       "<div>\n",
       "<style scoped>\n",
       "    .dataframe tbody tr th:only-of-type {\n",
       "        vertical-align: middle;\n",
       "    }\n",
       "\n",
       "    .dataframe tbody tr th {\n",
       "        vertical-align: top;\n",
       "    }\n",
       "\n",
       "    .dataframe thead th {\n",
       "        text-align: right;\n",
       "    }\n",
       "</style>\n",
       "<table border=\"1\" class=\"dataframe\">\n",
       "  <thead>\n",
       "    <tr style=\"text-align: right;\">\n",
       "      <th></th>\n",
       "      <th>customer_unique_id</th>\n",
       "      <th>first_purchase</th>\n",
       "      <th>last_purchase</th>\n",
       "      <th>days_since_last_purchase</th>\n",
       "      <th>total_orders</th>\n",
       "      <th>total_spent</th>\n",
       "      <th>average_review_score</th>\n",
       "      <th>all_comments</th>\n",
       "      <th>total_price_items</th>\n",
       "      <th>total_freight_value</th>\n",
       "      <th>product_categories</th>\n",
       "      <th>seller_cities</th>\n",
       "      <th>order_statuses</th>\n",
       "    </tr>\n",
       "  </thead>\n",
       "  <tbody>\n",
       "    <tr>\n",
       "      <th>0</th>\n",
       "      <td>8d50f5eadf50201ccdcedfb9e2ac8455</td>\n",
       "      <td>2017-05-15 23:30:03</td>\n",
       "      <td>2018-08-20 19:14:26</td>\n",
       "      <td>864</td>\n",
       "      <td>17</td>\n",
       "      <td>927.63</td>\n",
       "      <td>NaN</td>\n",
       "      <td>NaN</td>\n",
       "      <td>729.62</td>\n",
       "      <td>172.42</td>\n",
       "      <td>construcao_ferramentas_ferramentas, esporte_la...</td>\n",
       "      <td>campinas, curitiba, joinville, londrina, sao j...</td>\n",
       "      <td>delivered, shipped, unavailable</td>\n",
       "    </tr>\n",
       "    <tr>\n",
       "      <th>1</th>\n",
       "      <td>3e43e6105506432c953e165fb2acf44c</td>\n",
       "      <td>2017-09-18 18:53:15</td>\n",
       "      <td>2018-02-27 18:36:39</td>\n",
       "      <td>1038</td>\n",
       "      <td>9</td>\n",
       "      <td>1963.58</td>\n",
       "      <td>NaN</td>\n",
       "      <td>NaN</td>\n",
       "      <td>1000.85</td>\n",
       "      <td>171.82</td>\n",
       "      <td>cama_mesa_banho, casa_construcao, informatica_...</td>\n",
       "      <td>ibitinga, jaguariuna, porto alegre, rio de jan...</td>\n",
       "      <td>delivered</td>\n",
       "    </tr>\n",
       "    <tr>\n",
       "      <th>2</th>\n",
       "      <td>6469f99c1f9dfae7733b25662e7f1782</td>\n",
       "      <td>2017-09-19 01:02:44</td>\n",
       "      <td>2018-06-28 00:43:34</td>\n",
       "      <td>917</td>\n",
       "      <td>7</td>\n",
       "      <td>973.09</td>\n",
       "      <td>NaN</td>\n",
       "      <td>NaN</td>\n",
       "      <td>664.20</td>\n",
       "      <td>94.63</td>\n",
       "      <td>cama_mesa_banho</td>\n",
       "      <td>ibitinga, piracicaba, sao paulo</td>\n",
       "      <td>delivered</td>\n",
       "    </tr>\n",
       "    <tr>\n",
       "      <th>3</th>\n",
       "      <td>ca77025e7201e3b30c44b472ff346268</td>\n",
       "      <td>2017-10-09 12:34:39</td>\n",
       "      <td>2018-06-01 11:38:29</td>\n",
       "      <td>944</td>\n",
       "      <td>7</td>\n",
       "      <td>2126.44</td>\n",
       "      <td>NaN</td>\n",
       "      <td>NaN</td>\n",
       "      <td>806.61</td>\n",
       "      <td>316.11</td>\n",
       "      <td>cama_mesa_banho, cool_stuff, moveis_decoracao,...</td>\n",
       "      <td>ibitinga, pedreira, sao paulo</td>\n",
       "      <td>delivered</td>\n",
       "    </tr>\n",
       "    <tr>\n",
       "      <th>4</th>\n",
       "      <td>1b6c7548a2a1f9037c1fd3ddfed95f33</td>\n",
       "      <td>2017-11-13 16:44:41</td>\n",
       "      <td>2018-02-14 13:22:12</td>\n",
       "      <td>1051</td>\n",
       "      <td>7</td>\n",
       "      <td>1386.54</td>\n",
       "      <td>NaN</td>\n",
       "      <td>NaN</td>\n",
       "      <td>855.21</td>\n",
       "      <td>165.91</td>\n",
       "      <td>beleza_saude, moveis_decoracao, papelaria, per...</td>\n",
       "      <td>formiga, itajai, mogi das cruzes, pedreira, sa...</td>\n",
       "      <td>delivered</td>\n",
       "    </tr>\n",
       "  </tbody>\n",
       "</table>\n",
       "</div>"
      ],
      "text/plain": [
       "                 customer_unique_id      first_purchase       last_purchase  \\\n",
       "0  8d50f5eadf50201ccdcedfb9e2ac8455 2017-05-15 23:30:03 2018-08-20 19:14:26   \n",
       "1  3e43e6105506432c953e165fb2acf44c 2017-09-18 18:53:15 2018-02-27 18:36:39   \n",
       "2  6469f99c1f9dfae7733b25662e7f1782 2017-09-19 01:02:44 2018-06-28 00:43:34   \n",
       "3  ca77025e7201e3b30c44b472ff346268 2017-10-09 12:34:39 2018-06-01 11:38:29   \n",
       "4  1b6c7548a2a1f9037c1fd3ddfed95f33 2017-11-13 16:44:41 2018-02-14 13:22:12   \n",
       "\n",
       "   days_since_last_purchase  total_orders  total_spent  average_review_score  \\\n",
       "0                       864            17       927.63                   NaN   \n",
       "1                      1038             9      1963.58                   NaN   \n",
       "2                       917             7       973.09                   NaN   \n",
       "3                       944             7      2126.44                   NaN   \n",
       "4                      1051             7      1386.54                   NaN   \n",
       "\n",
       "  all_comments  total_price_items  total_freight_value  \\\n",
       "0          NaN             729.62               172.42   \n",
       "1          NaN            1000.85               171.82   \n",
       "2          NaN             664.20                94.63   \n",
       "3          NaN             806.61               316.11   \n",
       "4          NaN             855.21               165.91   \n",
       "\n",
       "                                  product_categories  \\\n",
       "0  construcao_ferramentas_ferramentas, esporte_la...   \n",
       "1  cama_mesa_banho, casa_construcao, informatica_...   \n",
       "2                                    cama_mesa_banho   \n",
       "3  cama_mesa_banho, cool_stuff, moveis_decoracao,...   \n",
       "4  beleza_saude, moveis_decoracao, papelaria, per...   \n",
       "\n",
       "                                       seller_cities  \\\n",
       "0  campinas, curitiba, joinville, londrina, sao j...   \n",
       "1  ibitinga, jaguariuna, porto alegre, rio de jan...   \n",
       "2                    ibitinga, piracicaba, sao paulo   \n",
       "3                      ibitinga, pedreira, sao paulo   \n",
       "4  formiga, itajai, mogi das cruzes, pedreira, sa...   \n",
       "\n",
       "                    order_statuses  \n",
       "0  delivered, shipped, unavailable  \n",
       "1                        delivered  \n",
       "2                        delivered  \n",
       "3                        delivered  \n",
       "4                        delivered  "
      ]
     },
     "execution_count": 219,
     "metadata": {},
     "output_type": "execute_result"
    }
   ],
   "source": [
    "#Recence\n",
    "\n",
    "#calculate the time since last seen\n",
    "#current_date = pd.to_datetime(datetime.now().date()) #maybe not use the current date but last date of DB update ('2021-10-01')\n",
    "DATABASE_UPDATE = pd.to_datetime('2021-01-01') #should be constant since information comes from outside\n",
    "\n",
    "data['days_since_last_purchase'] = (DATABASE_UPDATE - data['last_purchase']).dt.days\n",
    "\n",
    "# Insert the new column after the last_seen column\n",
    "last_purchase_index = data.columns.get_loc('last_purchase')\n",
    "data.insert(last_purchase_index + 1, 'days_since_last_purchase', data.pop('days_since_last_purchase'))\n",
    "\n",
    "data.head()"
   ]
  },
  {
   "cell_type": "markdown",
   "id": "f4f9c496-ce52-4236-b099-dd0da396f819",
   "metadata": {},
   "source": [
    "Features RFM retenues : \n",
    "- last_purchase = Récence\n",
    "- days_since_last_purchase = Fréquence\n",
    "- total_price_items = Montant"
   ]
  },
  {
   "cell_type": "code",
   "execution_count": 221,
   "id": "086624bc-5b6a-41bf-92f6-7fd09ff147ba",
   "metadata": {},
   "outputs": [
    {
     "data": {
      "text/html": [
       "<div>\n",
       "<style scoped>\n",
       "    .dataframe tbody tr th:only-of-type {\n",
       "        vertical-align: middle;\n",
       "    }\n",
       "\n",
       "    .dataframe tbody tr th {\n",
       "        vertical-align: top;\n",
       "    }\n",
       "\n",
       "    .dataframe thead th {\n",
       "        text-align: right;\n",
       "    }\n",
       "</style>\n",
       "<table border=\"1\" class=\"dataframe\">\n",
       "  <thead>\n",
       "    <tr style=\"text-align: right;\">\n",
       "      <th></th>\n",
       "      <th>last_purchase</th>\n",
       "      <th>days_since_last_purchase</th>\n",
       "      <th>total_price_items</th>\n",
       "    </tr>\n",
       "  </thead>\n",
       "  <tbody>\n",
       "    <tr>\n",
       "      <th>0</th>\n",
       "      <td>2018-08-20 19:14:26</td>\n",
       "      <td>864</td>\n",
       "      <td>729.62</td>\n",
       "    </tr>\n",
       "    <tr>\n",
       "      <th>1</th>\n",
       "      <td>2018-02-27 18:36:39</td>\n",
       "      <td>1038</td>\n",
       "      <td>1000.85</td>\n",
       "    </tr>\n",
       "    <tr>\n",
       "      <th>2</th>\n",
       "      <td>2018-06-28 00:43:34</td>\n",
       "      <td>917</td>\n",
       "      <td>664.20</td>\n",
       "    </tr>\n",
       "    <tr>\n",
       "      <th>3</th>\n",
       "      <td>2018-06-01 11:38:29</td>\n",
       "      <td>944</td>\n",
       "      <td>806.61</td>\n",
       "    </tr>\n",
       "    <tr>\n",
       "      <th>4</th>\n",
       "      <td>2018-02-14 13:22:12</td>\n",
       "      <td>1051</td>\n",
       "      <td>855.21</td>\n",
       "    </tr>\n",
       "    <tr>\n",
       "      <th>...</th>\n",
       "      <td>...</td>\n",
       "      <td>...</td>\n",
       "      <td>...</td>\n",
       "    </tr>\n",
       "    <tr>\n",
       "      <th>96091</th>\n",
       "      <td>2018-06-06 10:46:09</td>\n",
       "      <td>939</td>\n",
       "      <td>223.00</td>\n",
       "    </tr>\n",
       "    <tr>\n",
       "      <th>96092</th>\n",
       "      <td>2017-12-17 23:31:33</td>\n",
       "      <td>1110</td>\n",
       "      <td>59.00</td>\n",
       "    </tr>\n",
       "    <tr>\n",
       "      <th>96093</th>\n",
       "      <td>2017-08-04 23:18:15</td>\n",
       "      <td>1245</td>\n",
       "      <td>143.80</td>\n",
       "    </tr>\n",
       "    <tr>\n",
       "      <th>96094</th>\n",
       "      <td>2018-08-12 20:27:59</td>\n",
       "      <td>872</td>\n",
       "      <td>30.00</td>\n",
       "    </tr>\n",
       "    <tr>\n",
       "      <th>96095</th>\n",
       "      <td>2018-07-31 19:13:11</td>\n",
       "      <td>884</td>\n",
       "      <td>159.99</td>\n",
       "    </tr>\n",
       "  </tbody>\n",
       "</table>\n",
       "<p>96096 rows × 3 columns</p>\n",
       "</div>"
      ],
      "text/plain": [
       "            last_purchase  days_since_last_purchase  total_price_items\n",
       "0     2018-08-20 19:14:26                       864             729.62\n",
       "1     2018-02-27 18:36:39                      1038            1000.85\n",
       "2     2018-06-28 00:43:34                       917             664.20\n",
       "3     2018-06-01 11:38:29                       944             806.61\n",
       "4     2018-02-14 13:22:12                      1051             855.21\n",
       "...                   ...                       ...                ...\n",
       "96091 2018-06-06 10:46:09                       939             223.00\n",
       "96092 2017-12-17 23:31:33                      1110              59.00\n",
       "96093 2017-08-04 23:18:15                      1245             143.80\n",
       "96094 2018-08-12 20:27:59                       872              30.00\n",
       "96095 2018-07-31 19:13:11                       884             159.99\n",
       "\n",
       "[96096 rows x 3 columns]"
      ]
     },
     "execution_count": 221,
     "metadata": {},
     "output_type": "execute_result"
    }
   ],
   "source": [
    "#New df with only the 3 needed features\n",
    "columns_RFM = ['last_purchase', 'days_since_last_purchase', 'total_price_items']\n",
    "data_RFM = data[columns_RFM]\n",
    "\n",
    "data_RFM"
   ]
  },
  {
   "cell_type": "code",
   "execution_count": 222,
   "id": "d28707df-8810-45be-887c-f2dc45b52dac",
   "metadata": {},
   "outputs": [
    {
     "name": "stdout",
     "output_type": "stream",
     "text": [
      "<class 'pandas.core.frame.DataFrame'>\n",
      "RangeIndex: 96096 entries, 0 to 96095\n",
      "Data columns (total 3 columns):\n",
      " #   Column                    Non-Null Count  Dtype         \n",
      "---  ------                    --------------  -----         \n",
      " 0   last_purchase             96096 non-null  datetime64[ns]\n",
      " 1   days_since_last_purchase  96096 non-null  int64         \n",
      " 2   total_price_items         96096 non-null  float64       \n",
      "dtypes: datetime64[ns](1), float64(1), int64(1)\n",
      "memory usage: 2.2 MB\n"
     ]
    }
   ],
   "source": [
    "data_RFM.info()"
   ]
  },
  {
   "cell_type": "markdown",
   "id": "b86a0528-93bb-457a-87e1-d6c1700682ef",
   "metadata": {},
   "source": [
    "### Export cleaned data and built data_RFM dataframes"
   ]
  },
  {
   "cell_type": "code",
   "execution_count": 224,
   "id": "03ef0d0d-bf01-4123-aa1a-0b817e82cd0d",
   "metadata": {},
   "outputs": [],
   "source": [
    "data.to_csv('data/data_cleaned.csv', index = False)\n",
    "data_RFM.to_csv('data/data_RFM.csv', index = False)"
   ]
  }
 ],
 "metadata": {
  "kernelspec": {
   "display_name": "Python 3 (ipykernel)",
   "language": "python",
   "name": "python3"
  },
  "language_info": {
   "codemirror_mode": {
    "name": "ipython",
    "version": 3
   },
   "file_extension": ".py",
   "mimetype": "text/x-python",
   "name": "python",
   "nbconvert_exporter": "python",
   "pygments_lexer": "ipython3",
   "version": "3.11.5"
  }
 },
 "nbformat": 4,
 "nbformat_minor": 5
}
